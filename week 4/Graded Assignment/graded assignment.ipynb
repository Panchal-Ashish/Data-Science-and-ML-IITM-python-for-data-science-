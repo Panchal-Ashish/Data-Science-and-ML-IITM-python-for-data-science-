{
 "cells": [
  {
   "cell_type": "code",
   "execution_count": 92,
   "metadata": {},
   "outputs": [],
   "source": [
    "import pandas as pd\n",
    "import numpy as np\n",
    "\n",
    "import seaborn as sns\n",
    "import matplotlib.pyplot as plt\n",
    "\n",
    "from sklearn.metrics import accuracy_score, confusion_matrix, mean_squared_error\n",
    "from sklearn.model_selection import train_test_split\n",
    "from sklearn.linear_model import LogisticRegression, LinearRegression\n",
    "from sklearn.ensemble import RandomForestRegressor\n",
    "from sklearn.neighbors import KNeighborsClassifier"
   ]
  },
  {
   "cell_type": "code",
   "execution_count": 93,
   "metadata": {},
   "outputs": [],
   "source": [
    "train_data = pd.read_csv(\"ServiceTrain.csv\")\n",
    "test_data = pd.read_csv(\"ServiceTest.csv\")\n",
    "\n",
    "train = train_data.copy()\n",
    "test = test_data.copy()"
   ]
  },
  {
   "cell_type": "code",
   "execution_count": 94,
   "metadata": {},
   "outputs": [
    {
     "name": "stdout",
     "output_type": "stream",
     "text": [
      "<class 'pandas.core.frame.DataFrame'>\n",
      "RangeIndex: 315 entries, 0 to 314\n",
      "Data columns (total 6 columns):\n",
      " #   Column       Non-Null Count  Dtype  \n",
      "---  ------       --------------  -----  \n",
      " 0   OilQual      315 non-null    float64\n",
      " 1   EnginePerf   315 non-null    float64\n",
      " 2   NormMileage  315 non-null    float64\n",
      " 3   TyreWear     315 non-null    float64\n",
      " 4   HVACwear     315 non-null    float64\n",
      " 5   Service      315 non-null    object \n",
      "dtypes: float64(5), object(1)\n",
      "memory usage: 14.9+ KB\n",
      "None\n",
      "\n",
      "\n",
      "OilQual        0\n",
      "EnginePerf     0\n",
      "NormMileage    0\n",
      "TyreWear       0\n",
      "HVACwear       0\n",
      "Service        0\n",
      "dtype: int64\n",
      "\n",
      "\n",
      "          OilQual  EnginePerf  NormMileage    TyreWear    HVACwear\n",
      "count  315.000000  315.000000   315.000000  315.000000  315.000000\n",
      "mean    59.649297   60.305574    60.297214   61.758983   60.394734\n",
      "std     37.702113   37.143496    35.980773   37.063963   38.571413\n",
      "min      0.987185    1.891003     3.358986    6.213161   -1.719738\n",
      "25%     26.765516   27.418265    31.259536   29.036162   31.336275\n",
      "50%     59.663282   59.741061    57.220883   60.304031   60.620518\n",
      "75%    104.388821  103.744032   103.051485  106.172658  105.536843\n",
      "max    106.428821  105.744032   105.051485  108.172658  107.536843\n"
     ]
    }
   ],
   "source": [
    "print(train_data.info())\n",
    "print(\"\\n\")\n",
    "print(train_data.isnull().sum())\n",
    "print(\"\\n\")\n",
    "print(train_data.describe())"
   ]
  },
  {
   "cell_type": "code",
   "execution_count": 95,
   "metadata": {},
   "outputs": [
    {
     "name": "stdout",
     "output_type": "stream",
     "text": [
      "<class 'pandas.core.frame.DataFrame'>\n",
      "RangeIndex: 135 entries, 0 to 134\n",
      "Data columns (total 6 columns):\n",
      " #   Column       Non-Null Count  Dtype  \n",
      "---  ------       --------------  -----  \n",
      " 0   OilQual      135 non-null    float64\n",
      " 1   EnginePerf   135 non-null    float64\n",
      " 2   NormMileage  135 non-null    float64\n",
      " 3   TyreWear     135 non-null    float64\n",
      " 4   HVACwear     135 non-null    float64\n",
      " 5   Service      135 non-null    object \n",
      "dtypes: float64(5), object(1)\n",
      "memory usage: 6.5+ KB\n",
      "None\n",
      "\n",
      "\n",
      "OilQual        0\n",
      "EnginePerf     0\n",
      "NormMileage    0\n",
      "TyreWear       0\n",
      "HVACwear       0\n",
      "Service        0\n",
      "dtype: int64\n",
      "\n",
      "\n",
      "          OilQual  EnginePerf  NormMileage    TyreWear    HVACwear\n",
      "count  135.000000  135.000000   135.000000  135.000000  135.000000\n",
      "mean    58.629380   59.077366    59.118254   60.863823   58.986136\n",
      "std     38.858638   38.603943    37.461473   38.445306   40.000363\n",
      "min      2.597185    1.891003     3.588986    6.143161   -1.719738\n",
      "25%     26.695516   27.418265    31.259536   28.901162   31.311275\n",
      "50%     61.023282   61.501061    59.350883   61.304031   62.620518\n",
      "75%    104.228821  103.744032   103.051485  106.172658  105.331843\n",
      "max    106.388821  105.744032   105.051485  108.172658  105.826843\n"
     ]
    }
   ],
   "source": [
    "print(test_data.info())\n",
    "print(\"\\n\")\n",
    "print(test_data.isnull().sum())\n",
    "print(\"\\n\")\n",
    "print(test_data.describe())"
   ]
  },
  {
   "cell_type": "markdown",
   "metadata": {},
   "source": [
    "## Q3. What is the frequency distribution (in %) of the target variable of train_data dataframe?\n",
    " #### No -74, Yes - 26\n",
    " No - 26, Yes - 74\n",
    " \n",
    " No - 50, Yes - 50\n",
    " \n",
    " No – 60, Yes - 40"
   ]
  },
  {
   "cell_type": "code",
   "execution_count": 96,
   "metadata": {},
   "outputs": [
    {
     "data": {
      "text/html": [
       "<div>\n",
       "<style scoped>\n",
       "    .dataframe tbody tr th:only-of-type {\n",
       "        vertical-align: middle;\n",
       "    }\n",
       "\n",
       "    .dataframe tbody tr th {\n",
       "        vertical-align: top;\n",
       "    }\n",
       "\n",
       "    .dataframe thead th {\n",
       "        text-align: right;\n",
       "    }\n",
       "</style>\n",
       "<table border=\"1\" class=\"dataframe\">\n",
       "  <thead>\n",
       "    <tr style=\"text-align: right;\">\n",
       "      <th>col_0</th>\n",
       "      <th>count</th>\n",
       "    </tr>\n",
       "    <tr>\n",
       "      <th>Service</th>\n",
       "      <th></th>\n",
       "    </tr>\n",
       "  </thead>\n",
       "  <tbody>\n",
       "    <tr>\n",
       "      <th>No</th>\n",
       "      <td>0.736508</td>\n",
       "    </tr>\n",
       "    <tr>\n",
       "      <th>Yes</th>\n",
       "      <td>0.263492</td>\n",
       "    </tr>\n",
       "  </tbody>\n",
       "</table>\n",
       "</div>"
      ],
      "text/plain": [
       "col_0       count\n",
       "Service          \n",
       "No       0.736508\n",
       "Yes      0.263492"
      ]
     },
     "execution_count": 96,
     "metadata": {},
     "output_type": "execute_result"
    }
   ],
   "source": [
    "pd.crosstab(train_data['Service'],columns = 'count', normalize = True)"
   ]
  },
  {
   "cell_type": "markdown",
   "metadata": {},
   "source": [
    "## Prepare the data by following the steps given below, and answer questions from 4 – 6 \t\n",
    "\tEncode categorical variable, Service - Yes as 1 and No as 0\n",
    "\tSet random_state for the instance of the logistic regression class as 0\n",
    "## Q4.Build a logistic regression model between the input and output variables. What is the accuracy range (in %) of the predictions made over test data?\n",
    " #### 80 - 100\n",
    "\n",
    "60 - 79\n",
    "\n",
    "30 - 59\n",
    "\n",
    "0 - 29"
   ]
  },
  {
   "cell_type": "code",
   "execution_count": 97,
   "metadata": {},
   "outputs": [],
   "source": [
    "train['Service'] = train['Service'].map({\"Yes\": 1,\n",
    "                                        \"No\": 0})\n",
    "test['Service'] = test['Service'].map({\"Yes\": 1,\n",
    "                                        \"No\": 0})"
   ]
  },
  {
   "cell_type": "code",
   "execution_count": 98,
   "metadata": {},
   "outputs": [],
   "source": [
    "dummy_train = pd.get_dummies(data = train, drop_first = True)\n",
    "dummy_test = pd.get_dummies(data = test, drop_first = True)"
   ]
  },
  {
   "cell_type": "code",
   "execution_count": 99,
   "metadata": {},
   "outputs": [],
   "source": [
    "train_X = dummy_train.drop(['Service'], axis = 1, inplace = False)\n",
    "train_Y = dummy_train['Service']\n",
    "\n",
    "test_X = dummy_test.drop(['Service'], axis = 1, inplace = False)\n",
    "test_Y = dummy_test['Service']"
   ]
  },
  {
   "cell_type": "code",
   "execution_count": 100,
   "metadata": {},
   "outputs": [],
   "source": [
    "logistic = LogisticRegression(random_state = 0)"
   ]
  },
  {
   "cell_type": "code",
   "execution_count": 101,
   "metadata": {},
   "outputs": [
    {
     "data": {
      "text/plain": [
       "LogisticRegression(random_state=0)"
      ]
     },
     "execution_count": 101,
     "metadata": {},
     "output_type": "execute_result"
    }
   ],
   "source": [
    "logistic.fit(train_X, train_Y)"
   ]
  },
  {
   "cell_type": "code",
   "execution_count": 102,
   "metadata": {},
   "outputs": [],
   "source": [
    "prediction = logistic.predict(test_X)"
   ]
  },
  {
   "cell_type": "code",
   "execution_count": 103,
   "metadata": {},
   "outputs": [
    {
     "name": "stdout",
     "output_type": "stream",
     "text": [
      "[[94  5]\n",
      " [ 7 29]]\n"
     ]
    }
   ],
   "source": [
    "confusion_matrix = confusion_matrix(test_Y, prediction)\n",
    "print(confusion_matrix)"
   ]
  },
  {
   "cell_type": "code",
   "execution_count": 104,
   "metadata": {},
   "outputs": [
    {
     "name": "stdout",
     "output_type": "stream",
     "text": [
      "0.9111111111111111\n"
     ]
    }
   ],
   "source": [
    "accuracy_score = accuracy_score(test_Y, prediction)\n",
    "print(accuracy_score)"
   ]
  },
  {
   "cell_type": "markdown",
   "metadata": {},
   "source": [
    "## Q5. Total no. of samples misclassified based on the model built in Q4 are: (given as a range)\n",
    " 1 - 10\n",
    " \n",
    " 11 - 20\n",
    " \n",
    " 21 - 30\n",
    " \n",
    " 31 - 40"
   ]
  },
  {
   "cell_type": "code",
   "execution_count": 105,
   "metadata": {},
   "outputs": [
    {
     "data": {
      "text/plain": [
       "12"
      ]
     },
     "execution_count": 105,
     "metadata": {},
     "output_type": "execute_result"
    }
   ],
   "source": [
    "(test_Y != prediction).sum()"
   ]
  },
  {
   "cell_type": "markdown",
   "metadata": {},
   "source": [
    "## Q6. Build a kNN model considering 4 nearest neighbors with the distance metric as Euclidean. What is the accuracy range (in %) of the model for the predictions made on test data? Note: Read the data afresh and follow the same data preparation procedure as mentioned earlier\n",
    " #### 96 -100\n",
    " \n",
    " 90 - 95\n",
    " \n",
    " 85 - 89\n",
    " \n",
    " 80 – 84"
   ]
  },
  {
   "cell_type": "code",
   "execution_count": 111,
   "metadata": {},
   "outputs": [],
   "source": [
    "import pandas as pd\n",
    "import numpy as np\n",
    "\n",
    "import seaborn as sns\n",
    "import matplotlib.pyplot as plt\n",
    "\n",
    "from sklearn.metrics import accuracy_score, confusion_matrix, mean_squared_error\n",
    "from sklearn.model_selection import train_test_split\n",
    "from sklearn.linear_model import LogisticRegression, LinearRegression\n",
    "from sklearn.ensemble import RandomForestRegressor\n",
    "from sklearn.neighbors import KNeighborsClassifier"
   ]
  },
  {
   "cell_type": "code",
   "execution_count": 112,
   "metadata": {},
   "outputs": [],
   "source": [
    "train = train_data.copy()\n",
    "test = test_data.copy()\n",
    "\n",
    "train['Service'] = train['Service'].map({\"Yes\": 1,\n",
    "                                        \"No\": 0})\n",
    "test['Service'] = test['Service'].map({\"Yes\": 1,\n",
    "                                        \"No\": 0})\n",
    "\n",
    "dummy_train = pd.get_dummies(data = train, drop_first = True)\n",
    "dummy_test = pd.get_dummies(data = test, drop_first = True)\n",
    "\n",
    "train_X = dummy_train.drop(['Service'], axis = 1, inplace = False)\n",
    "train_Y = dummy_train['Service']\n",
    "test_X = dummy_test.drop(['Service'], axis = 1, inplace = False)\n",
    "test_Y = dummy_test['Service']"
   ]
  },
  {
   "cell_type": "code",
   "execution_count": 113,
   "metadata": {},
   "outputs": [],
   "source": [
    "KNN_classifier = KNeighborsClassifier(n_neighbors = 4)"
   ]
  },
  {
   "cell_type": "code",
   "execution_count": 114,
   "metadata": {},
   "outputs": [
    {
     "data": {
      "text/plain": [
       "KNeighborsClassifier(n_neighbors=4)"
      ]
     },
     "execution_count": 114,
     "metadata": {},
     "output_type": "execute_result"
    }
   ],
   "source": [
    "KNN_classifier.fit(train_X, train_Y)"
   ]
  },
  {
   "cell_type": "code",
   "execution_count": 115,
   "metadata": {},
   "outputs": [],
   "source": [
    "predictions_knn = KNN_classifier.predict(test_X)"
   ]
  },
  {
   "cell_type": "code",
   "execution_count": 116,
   "metadata": {},
   "outputs": [
    {
     "name": "stdout",
     "output_type": "stream",
     "text": [
      "1.0\n"
     ]
    }
   ],
   "source": [
    "accuracy_score_knn = accuracy_score(test_Y, predictions_knn)\n",
    "print(accuracy_score_knn)"
   ]
  },
  {
   "cell_type": "code",
   "execution_count": null,
   "metadata": {},
   "outputs": [],
   "source": []
  },
  {
   "cell_type": "markdown",
   "metadata": {},
   "source": [
    "## Q9. Check the correlation between all variables and identify the variable that is highly correlated with the output variable, Current.\n",
    " Protein\n",
    " \n",
    " Days\n",
    " \n",
    " #### Previous\n",
    " \n",
    " I79"
   ]
  },
  {
   "cell_type": "code",
   "execution_count": 119,
   "metadata": {},
   "outputs": [],
   "source": [
    "milk_data = pd.read_csv(\"Milk Production Data.txt\", delimiter = \"\\t\")"
   ]
  },
  {
   "cell_type": "code",
   "execution_count": 120,
   "metadata": {
    "collapsed": true
   },
   "outputs": [
    {
     "name": "stdout",
     "output_type": "stream",
     "text": [
      "     CurrentMilk  Previous  Fat  Protein  Days  Lactation  I79\n",
      "0             45        45  5.5      8.9    21          5    0\n",
      "1             86        86  4.4      4.1    25          4    0\n",
      "2             50        50  6.5      4.0    25          7    0\n",
      "3             42        42  7.4      4.1    25          2    0\n",
      "4             61        61  3.8      3.8    33          2    0\n",
      "..           ...       ...  ...      ...   ...        ...  ...\n",
      "194           89        89  3.3      3.0   149          2    1\n",
      "195           68        69  3.5      3.4   149          2    1\n",
      "196           55        54  5.9      3.4   149          1    1\n",
      "197           47        57  3.5      2.9   149          2    1\n",
      "198           73        61  3.6      2.8   151          1    1\n",
      "\n",
      "[199 rows x 7 columns]\n"
     ]
    }
   ],
   "source": [
    "print(milk_data)"
   ]
  },
  {
   "cell_type": "code",
   "execution_count": 128,
   "metadata": {
    "collapsed": true
   },
   "outputs": [
    {
     "data": {
      "text/plain": [
       "CurrentMilk    1.000000\n",
       "Previous       0.744579\n",
       "Fat           -0.117107\n",
       "Protein       -0.354983\n",
       "Days          -0.468121\n",
       "Lactation      0.123854\n",
       "I79           -0.279918\n",
       "Name: CurrentMilk, dtype: float64"
      ]
     },
     "execution_count": 128,
     "metadata": {},
     "output_type": "execute_result"
    }
   ],
   "source": [
    "milk_data.corr().loc[:,'CurrentMilk']"
   ]
  },
  {
   "cell_type": "code",
   "execution_count": 129,
   "metadata": {
    "collapsed": true
   },
   "outputs": [
    {
     "data": {
      "text/plain": [
       "CurrentMilk    1.000000\n",
       "Previous       0.744579\n",
       "Days           0.468121\n",
       "Protein        0.354983\n",
       "I79            0.279918\n",
       "Lactation      0.123854\n",
       "Fat            0.117107\n",
       "Name: CurrentMilk, dtype: float64"
      ]
     },
     "execution_count": 129,
     "metadata": {},
     "output_type": "execute_result"
    }
   ],
   "source": [
    "milk_data.corr().loc[:,'CurrentMilk'].abs().sort_values(ascending =False)"
   ]
  },
  {
   "cell_type": "code",
   "execution_count": 131,
   "metadata": {},
   "outputs": [
    {
     "data": {
      "text/plain": [
       "Previous     0.744579\n",
       "Days         0.468121\n",
       "Protein      0.354983\n",
       "I79          0.279918\n",
       "Lactation    0.123854\n",
       "Fat          0.117107\n",
       "Name: CurrentMilk, dtype: float64"
      ]
     },
     "execution_count": 131,
     "metadata": {},
     "output_type": "execute_result"
    }
   ],
   "source": [
    "milk_data.corr().loc[:,'CurrentMilk'].abs().sort_values(ascending =False)[1:]"
   ]
  },
  {
   "cell_type": "markdown",
   "metadata": {},
   "source": [
    "## Q10. Build a multiple linear regression model using train data. What % of variation (given as a range) in the current month's milk production is explained by the variation of independent features of test data?\n",
    " 96 - 100\n",
    " \n",
    " 90 - 95\n",
    " \n",
    " 76 - 89\n",
    " \n",
    " 60 - 75\n",
    " \n",
    " #### note: use linear regression model"
   ]
  },
  {
   "cell_type": "code",
   "execution_count": 139,
   "metadata": {},
   "outputs": [],
   "source": [
    "import pandas as pd\n",
    "import numpy as np\n",
    "\n",
    "import seaborn as sns\n",
    "import matplotlib.pyplot as plt\n",
    "\n",
    "from sklearn.metrics import accuracy_score, confusion_matrix, mean_squared_error\n",
    "from sklearn.model_selection import train_test_split\n",
    "from sklearn.linear_model import LogisticRegression, LinearRegression\n",
    "from sklearn.ensemble import RandomForestRegressor\n",
    "from sklearn.neighbors import KNeighborsClassifier\n"
   ]
  },
  {
   "cell_type": "code",
   "execution_count": 140,
   "metadata": {},
   "outputs": [],
   "source": [
    "milk_data = pd.read_csv(\"Milk Production Data.txt\", delimiter = \"\\t\")\n",
    "milk_copy = milk_data.copy()"
   ]
  },
  {
   "cell_type": "code",
   "execution_count": 141,
   "metadata": {},
   "outputs": [],
   "source": [
    "milk_copy = pd.get_dummies(milk_copy, drop_first =True)"
   ]
  },
  {
   "cell_type": "code",
   "execution_count": 144,
   "metadata": {},
   "outputs": [],
   "source": [
    "X = milk_copy.drop(columns = ['CurrentMilk'], axis = 1, inplace = False)\n",
    "Y = milk_copy['CurrentMilk']"
   ]
  },
  {
   "cell_type": "code",
   "execution_count": 145,
   "metadata": {},
   "outputs": [],
   "source": [
    "milk_train_X, milk_test_X, milk_train_Y, milk_test_Y \n",
    "= \n",
    "train_test_split(X, Y, test_size = 0.3, random_state = 0)"
   ]
  },
  {
   "cell_type": "code",
   "execution_count": 147,
   "metadata": {},
   "outputs": [],
   "source": [
    "lgr = LinearRegression()"
   ]
  },
  {
   "cell_type": "code",
   "execution_count": 150,
   "metadata": {},
   "outputs": [
    {
     "name": "stdout",
     "output_type": "stream",
     "text": [
      "66.45\n"
     ]
    }
   ],
   "source": [
    "base_pred = np.mean(milk_test_Y)\n",
    "print(base_pred)\n",
    "base_pred = np.repeat(base_pred,len(milk_test_Y))"
   ]
  },
  {
   "cell_type": "code",
   "execution_count": 156,
   "metadata": {},
   "outputs": [
    {
     "name": "stdout",
     "output_type": "stream",
     "text": [
      "base RMSE:17.548432978474175\n"
     ]
    }
   ],
   "source": [
    "base_RMSE = np.sqrt(mean_squared_error(milk_test_Y,base_pred))\n",
    "print(f'base RMSE:{base_RMSE}')"
   ]
  },
  {
   "cell_type": "code",
   "execution_count": 154,
   "metadata": {},
   "outputs": [],
   "source": [
    "lin_model = lgr.fit(milk_train_X, milk_train_Y)"
   ]
  },
  {
   "cell_type": "code",
   "execution_count": 155,
   "metadata": {},
   "outputs": [],
   "source": [
    "milk_predictions = lgr.predict(milk_test_X)"
   ]
  },
  {
   "cell_type": "code",
   "execution_count": 157,
   "metadata": {},
   "outputs": [
    {
     "name": "stdout",
     "output_type": "stream",
     "text": [
      "model RMSE:9.914829765824818\n"
     ]
    }
   ],
   "source": [
    "model_rmse = np.sqrt(mean_squared_error(milk_test_Y, milk_predictions))\n",
    "print(f\"model RMSE:{model_rmse}\")"
   ]
  },
  {
   "cell_type": "code",
   "execution_count": 158,
   "metadata": {},
   "outputs": [
    {
     "name": "stdout",
     "output_type": "stream",
     "text": [
      "R squared value for train set : 0.6522861794281234\n",
      "R squared value for test set : 0.6807772451950873\n"
     ]
    }
   ],
   "source": [
    "R2_train = lin_model.score(milk_train_X, milk_train_Y)\n",
    "R2_test = lin_model.score(milk_test_X, milk_test_Y)\n",
    "print(f\"R squared value for train set : {R2_train}\")\n",
    "print(f\"R squared value for test set : {R2_test}\")"
   ]
  },
  {
   "cell_type": "code",
   "execution_count": null,
   "metadata": {},
   "outputs": [],
   "source": []
  }
 ],
 "metadata": {
  "kernelspec": {
   "display_name": "Python 3",
   "language": "python",
   "name": "python3"
  },
  "language_info": {
   "codemirror_mode": {
    "name": "ipython",
    "version": 3
   },
   "file_extension": ".py",
   "mimetype": "text/x-python",
   "name": "python",
   "nbconvert_exporter": "python",
   "pygments_lexer": "ipython3",
   "version": "3.8.5"
  }
 },
 "nbformat": 4,
 "nbformat_minor": 4
}
