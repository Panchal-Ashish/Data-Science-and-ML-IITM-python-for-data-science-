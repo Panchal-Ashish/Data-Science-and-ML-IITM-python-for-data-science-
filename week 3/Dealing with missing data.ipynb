{
 "cells": [
  {
   "cell_type": "code",
   "execution_count": 1,
   "metadata": {},
   "outputs": [],
   "source": [
    "import os\n",
    "import pandas as pd\n",
    "import numpy as np\n",
    "import matplotlib.pyplot as plt\n",
    "import seaborn as sns"
   ]
  },
  {
   "cell_type": "code",
   "execution_count": 99,
   "metadata": {
    "scrolled": true
   },
   "outputs": [
    {
     "name": "stdout",
     "output_type": "stream",
     "text": [
      "      Price   Age       KM FuelType    HP  MetColor  Automatic    CC  Doors  \\\n",
      "0      6500  23.0  46986.0      NaN  90.0       1.0          0  2000      3   \n",
      "1     13750  23.0      NaN   Diesel  90.0       NaN          0  2000  three   \n",
      "2     13950  24.0  41711.0   Diesel   NaN       1.0          0  2000      3   \n",
      "3     14950   NaN  48000.0   Diesel  90.0       0.0          0  2000      3   \n",
      "4     13750  30.0  38500.0   Diesel  90.0       0.0          0  2000      3   \n",
      "...     ...   ...      ...      ...   ...       ...        ...   ...    ...   \n",
      "1431   7500  69.0  20544.0   Petrol  86.0       1.0          0  1300      3   \n",
      "1432  10845  72.0  19000.0   Petrol  86.0       0.0          0  1300      3   \n",
      "1433   8500  71.0  17016.0   Petrol  86.0       0.0          0  1300      3   \n",
      "1434   7250  70.0  16916.0   Petrol  86.0       1.0          0  1300      3   \n",
      "1435   6950  76.0      NaN   Petrol   NaN       0.0          0  1600      5   \n",
      "\n",
      "      Weight  \n",
      "0       1165  \n",
      "1       1165  \n",
      "2       1165  \n",
      "3       1165  \n",
      "4       1170  \n",
      "...      ...  \n",
      "1431    1025  \n",
      "1432    1015  \n",
      "1433    1015  \n",
      "1434    1015  \n",
      "1435    1114  \n",
      "\n",
      "[1436 rows x 10 columns]\n",
      "<class 'pandas.core.frame.DataFrame'>\n",
      "RangeIndex: 1436 entries, 0 to 1435\n",
      "Data columns (total 10 columns):\n",
      " #   Column     Non-Null Count  Dtype  \n",
      "---  ------     --------------  -----  \n",
      " 0   Price      1436 non-null   int64  \n",
      " 1   Age        1428 non-null   float64\n",
      " 2   KM         1431 non-null   float64\n",
      " 3   FuelType   1431 non-null   object \n",
      " 4   HP         1423 non-null   float64\n",
      " 5   MetColor   1431 non-null   float64\n",
      " 6   Automatic  1436 non-null   int64  \n",
      " 7   CC         1436 non-null   int64  \n",
      " 8   Doors      1436 non-null   object \n",
      " 9   Weight     1436 non-null   int64  \n",
      "dtypes: float64(4), int64(4), object(2)\n",
      "memory usage: 112.3+ KB\n",
      "None\n"
     ]
    }
   ],
   "source": [
    "cars_data = pd.read_csv(\"Toyota_corolla_modified.csv\", na_values = ['??','????'])\n",
    "print(cars_data)\n",
    "print(cars_data.info())"
   ]
  },
  {
   "cell_type": "code",
   "execution_count": 100,
   "metadata": {},
   "outputs": [],
   "source": [
    "cars_data2 = cars_data.copy()\n",
    "cars_data3 = cars_data2.copy()"
   ]
  },
  {
   "cell_type": "code",
   "execution_count": null,
   "metadata": {},
   "outputs": [],
   "source": [
    "  "
   ]
  },
  {
   "cell_type": "markdown",
   "metadata": {},
   "source": [
    "# IDENTIFYING MISSING VALUES"
   ]
  },
  {
   "cell_type": "markdown",
   "metadata": {},
   "source": [
    "### Dataframe.isna().sum()     OR Dataframe.isnull().sum()\n",
    "gives total count of missing values in each column"
   ]
  },
  {
   "cell_type": "code",
   "execution_count": 101,
   "metadata": {
    "scrolled": true
   },
   "outputs": [
    {
     "name": "stdout",
     "output_type": "stream",
     "text": [
      "Price         0\n",
      "Age           8\n",
      "KM            5\n",
      "FuelType      5\n",
      "HP           13\n",
      "MetColor      5\n",
      "Automatic     0\n",
      "CC            0\n",
      "Doors         0\n",
      "Weight        0\n",
      "dtype: int64\n",
      "\n",
      "\n",
      "Price         0\n",
      "Age           8\n",
      "KM            5\n",
      "FuelType      5\n",
      "HP           13\n",
      "MetColor      5\n",
      "Automatic     0\n",
      "CC            0\n",
      "Doors         0\n",
      "Weight        0\n",
      "dtype: int64\n"
     ]
    }
   ],
   "source": [
    "print(cars_data2.isna().sum())\n",
    "print(\"\\n\")\n",
    "print(cars_data2.isnull().sum())"
   ]
  },
  {
   "cell_type": "code",
   "execution_count": null,
   "metadata": {},
   "outputs": [],
   "source": []
  },
  {
   "cell_type": "markdown",
   "metadata": {},
   "source": [
    "we need to check whether a particular row has only 1 or multiple NaN values\n",
    "\n",
    "If a single row has multiple NaN values, it is better to discard the entire row\n",
    "\n",
    "if a single row has only 1 NaN value, It is better to fill that NaN value logically\n",
    "\n",
    "SO, Subsetting rows that have one or more missing values\n",
    "## CHECKING THE MISSING DATA\n",
    "\n",
    "### variable = Dataframe[Dataframe.isnull().any(axis = 1)]\n",
    "Thif function represents return all rows whereatleast 1 value is missing\n",
    "\n",
    "axis = 0 (for row) or 1 (for column)"
   ]
  },
  {
   "cell_type": "code",
   "execution_count": 102,
   "metadata": {},
   "outputs": [
    {
     "name": "stdout",
     "output_type": "stream",
     "text": [
      "      Price   Age        KM FuelType     HP  MetColor  Automatic    CC  Doors  \\\n",
      "0      6500  23.0   46986.0      NaN   90.0       1.0          0  2000      3   \n",
      "1     13750  23.0       NaN   Diesel   90.0       NaN          0  2000  three   \n",
      "2     13950  24.0   41711.0   Diesel    NaN       1.0          0  2000      3   \n",
      "3     14950   NaN   48000.0   Diesel   90.0       0.0          0  2000      3   \n",
      "9     12950  23.0       NaN   Diesel   69.0       0.0          0  1900      3   \n",
      "12    19600   NaN   32189.0   Petrol  192.0       0.0          0  1800      3   \n",
      "19    16950  30.0   64359.0   Petrol  110.0       NaN          0  1600      3   \n",
      "23    16950  28.0   32220.0   Petrol    NaN       1.0          0  1600      3   \n",
      "28    16950  28.0   44142.0   Petrol  110.0       NaN          0  1600      3   \n",
      "44    16950  22.0  100250.0      NaN   90.0       0.0          0  2000      5   \n",
      "47    15800   NaN   75048.0   Petrol   97.0       1.0          0  1400      5   \n",
      "169   17795   9.0       NaN   Petrol   98.0       1.0          0  1400      4   \n",
      "170   18245   9.0       NaN   Petrol  110.0       1.0          0  1600      5   \n",
      "217   10950  41.0   75697.0   Petrol    NaN       1.0          0  1400      3   \n",
      "223   14950   NaN   71793.0      CNG  110.0       1.0          1  1600      4   \n",
      "263   12750  40.0   50640.0   Petrol    NaN       1.0          0  1600      5   \n",
      "283   13950   NaN   45600.0   Petrol  110.0       1.0          1  1600      5   \n",
      "294   13950  42.0   42560.0   Petrol    NaN       1.0          0  1600      5   \n",
      "393    4450  56.0  129155.0   Diesel    NaN       0.0          0  1800      5   \n",
      "404    9450   NaN  104805.0   Petrol   97.0       1.0          0  1400      3   \n",
      "537    9550  54.0   46856.0   Petrol    NaN       0.0          0  1400      5   \n",
      "627    8950   NaN  132807.0   Diesel   72.0       1.0          0  2000      5   \n",
      "637    7995   NaN  121626.0   Petrol   86.0       0.0          0  1300      5   \n",
      "641    8950  68.0  119500.0   Petrol  110.0       NaN          0  1600      5   \n",
      "648    8000  64.0  116000.0      NaN   86.0       0.0          0  1300      5   \n",
      "718    9950  63.0   89000.0   Petrol  110.0       NaN          0  1600      5   \n",
      "771    7950  65.0   78076.0   Petrol    NaN       1.0          0  1300      3   \n",
      "981    9750  57.0   45000.0   Petrol    NaN       1.0          0  1600      3   \n",
      "990   10495  60.0   43426.0   Petrol    NaN       1.0          0  1600      5   \n",
      "1122   7460  80.0  111392.0      NaN  110.0       0.0          0  1598      3   \n",
      "1161   7950  77.0   98000.0   Petrol    NaN       1.0          0  1600      5   \n",
      "1278   7750  71.0   74000.0   Petrol    NaN       0.0          0  1600      3   \n",
      "1376   7800  73.0   56566.0      NaN  110.0       1.0          0  1600      3   \n",
      "1435   6950  76.0       NaN   Petrol    NaN       0.0          0  1600      5   \n",
      "\n",
      "      Weight  \n",
      "0       1165  \n",
      "1       1165  \n",
      "2       1165  \n",
      "3       1165  \n",
      "9       1105  \n",
      "12      1185  \n",
      "19      1105  \n",
      "23      1120  \n",
      "28      1120  \n",
      "44      1255  \n",
      "47      1110  \n",
      "169     1065  \n",
      "170     1075  \n",
      "217     1025  \n",
      "223     1067  \n",
      "263     1075  \n",
      "283     1105  \n",
      "294     1080  \n",
      "393     1110  \n",
      "404     1025  \n",
      "537     1060  \n",
      "627     1135  \n",
      "637     1050  \n",
      "641     1070  \n",
      "648     1045  \n",
      "718     1085  \n",
      "771     1015  \n",
      "981     1050  \n",
      "990     1070  \n",
      "1122    1083  \n",
      "1161    1065  \n",
      "1278    1050  \n",
      "1376    1050  \n",
      "1435    1114  \n",
      "\n",
      "\n",
      "<class 'pandas.core.frame.DataFrame'>\n",
      "Int64Index: 34 entries, 0 to 1435\n",
      "Data columns (total 10 columns):\n",
      " #   Column     Non-Null Count  Dtype  \n",
      "---  ------     --------------  -----  \n",
      " 0   Price      34 non-null     int64  \n",
      " 1   Age        26 non-null     float64\n",
      " 2   KM         29 non-null     float64\n",
      " 3   FuelType   29 non-null     object \n",
      " 4   HP         21 non-null     float64\n",
      " 5   MetColor   29 non-null     float64\n",
      " 6   Automatic  34 non-null     int64  \n",
      " 7   CC         34 non-null     int64  \n",
      " 8   Doors      34 non-null     object \n",
      " 9   Weight     34 non-null     int64  \n",
      "dtypes: float64(4), int64(4), object(2)\n",
      "memory usage: 2.9+ KB\n",
      "None\n",
      "\n",
      "\n",
      "(34, 10)\n"
     ]
    }
   ],
   "source": [
    "missing = cars_data2[cars_data2.isnull().any(axis =1)]\n",
    "print(missing)\n",
    "print(\"\\n\")\n",
    "print(missing.info())\n",
    "print(\"\\n\")\n",
    "print(missing.shape)"
   ]
  },
  {
   "cell_type": "code",
   "execution_count": null,
   "metadata": {},
   "outputs": [],
   "source": []
  },
  {
   "cell_type": "markdown",
   "metadata": {},
   "source": [
    "### two approaches to fill the missing values\n",
    "1. ( for numerical variable ) fill missing values by mean/median\n",
    "2. ( for categorical variable ) fill missing values with class with maximum count (modal value... the category with highest frequency)"
   ]
  },
  {
   "cell_type": "markdown",
   "metadata": {},
   "source": [
    "look at description to know whether numerical variables should be inputed with mean or median\n",
    "### DataFrame.describe().... (For numerical variables)\n",
    "generates descriptive statistics that summarize the central tendency, dispersion and shape of dataset's distribution excluding NaN values\n",
    "\n",
    "it gives:\n",
    "1. count (No. of observations considered)\n",
    "2. Mean\n",
    "3. Std deviation\n",
    "4. 5 Number summary (Min, 25%, 50%, 75%, Max)\n",
    "Note : it does not give the value of the top and bottom whisker of the box plot\n",
    "### DataFrame.describe(include = \"O\").... (For categorical variables)... (O stands for Object)\n",
    "it gives:\n",
    "1. count (No. of observations considered)\n",
    "2. unique (No. of unique elements .... (integer))\n",
    "3. top (category with most frequency)\n",
    "4. frequency (corresponding frequency of the top)"
   ]
  },
  {
   "cell_type": "code",
   "execution_count": 103,
   "metadata": {},
   "outputs": [
    {
     "data": {
      "text/html": [
       "<div>\n",
       "<style scoped>\n",
       "    .dataframe tbody tr th:only-of-type {\n",
       "        vertical-align: middle;\n",
       "    }\n",
       "\n",
       "    .dataframe tbody tr th {\n",
       "        vertical-align: top;\n",
       "    }\n",
       "\n",
       "    .dataframe thead th {\n",
       "        text-align: right;\n",
       "    }\n",
       "</style>\n",
       "<table border=\"1\" class=\"dataframe\">\n",
       "  <thead>\n",
       "    <tr style=\"text-align: right;\">\n",
       "      <th></th>\n",
       "      <th>Price</th>\n",
       "      <th>Age</th>\n",
       "      <th>KM</th>\n",
       "      <th>HP</th>\n",
       "      <th>MetColor</th>\n",
       "      <th>Automatic</th>\n",
       "      <th>CC</th>\n",
       "      <th>Weight</th>\n",
       "    </tr>\n",
       "  </thead>\n",
       "  <tbody>\n",
       "    <tr>\n",
       "      <th>count</th>\n",
       "      <td>1436.000000</td>\n",
       "      <td>1428.000000</td>\n",
       "      <td>1431.000000</td>\n",
       "      <td>1423.000000</td>\n",
       "      <td>1431.000000</td>\n",
       "      <td>1436.000000</td>\n",
       "      <td>1436.000000</td>\n",
       "      <td>1436.00000</td>\n",
       "    </tr>\n",
       "    <tr>\n",
       "      <th>mean</th>\n",
       "      <td>10725.949861</td>\n",
       "      <td>56.027311</td>\n",
       "      <td>68672.035639</td>\n",
       "      <td>101.502460</td>\n",
       "      <td>0.674354</td>\n",
       "      <td>0.056407</td>\n",
       "      <td>1566.827994</td>\n",
       "      <td>1072.45961</td>\n",
       "    </tr>\n",
       "    <tr>\n",
       "      <th>std</th>\n",
       "      <td>3627.944090</td>\n",
       "      <td>18.585810</td>\n",
       "      <td>37440.107144</td>\n",
       "      <td>15.001494</td>\n",
       "      <td>0.468780</td>\n",
       "      <td>0.230786</td>\n",
       "      <td>187.182436</td>\n",
       "      <td>52.64112</td>\n",
       "    </tr>\n",
       "    <tr>\n",
       "      <th>min</th>\n",
       "      <td>4350.000000</td>\n",
       "      <td>1.000000</td>\n",
       "      <td>1.000000</td>\n",
       "      <td>69.000000</td>\n",
       "      <td>0.000000</td>\n",
       "      <td>0.000000</td>\n",
       "      <td>1300.000000</td>\n",
       "      <td>1000.00000</td>\n",
       "    </tr>\n",
       "    <tr>\n",
       "      <th>25%</th>\n",
       "      <td>8450.000000</td>\n",
       "      <td>44.000000</td>\n",
       "      <td>43000.000000</td>\n",
       "      <td>88.000000</td>\n",
       "      <td>0.000000</td>\n",
       "      <td>0.000000</td>\n",
       "      <td>1400.000000</td>\n",
       "      <td>1040.00000</td>\n",
       "    </tr>\n",
       "    <tr>\n",
       "      <th>50%</th>\n",
       "      <td>9900.000000</td>\n",
       "      <td>61.000000</td>\n",
       "      <td>63451.000000</td>\n",
       "      <td>110.000000</td>\n",
       "      <td>1.000000</td>\n",
       "      <td>0.000000</td>\n",
       "      <td>1600.000000</td>\n",
       "      <td>1070.00000</td>\n",
       "    </tr>\n",
       "    <tr>\n",
       "      <th>75%</th>\n",
       "      <td>11950.000000</td>\n",
       "      <td>70.000000</td>\n",
       "      <td>87178.500000</td>\n",
       "      <td>110.000000</td>\n",
       "      <td>1.000000</td>\n",
       "      <td>0.000000</td>\n",
       "      <td>1600.000000</td>\n",
       "      <td>1085.00000</td>\n",
       "    </tr>\n",
       "    <tr>\n",
       "      <th>max</th>\n",
       "      <td>32500.000000</td>\n",
       "      <td>80.000000</td>\n",
       "      <td>243000.000000</td>\n",
       "      <td>192.000000</td>\n",
       "      <td>1.000000</td>\n",
       "      <td>1.000000</td>\n",
       "      <td>2000.000000</td>\n",
       "      <td>1615.00000</td>\n",
       "    </tr>\n",
       "  </tbody>\n",
       "</table>\n",
       "</div>"
      ],
      "text/plain": [
       "              Price          Age             KM           HP     MetColor  \\\n",
       "count   1436.000000  1428.000000    1431.000000  1423.000000  1431.000000   \n",
       "mean   10725.949861    56.027311   68672.035639   101.502460     0.674354   \n",
       "std     3627.944090    18.585810   37440.107144    15.001494     0.468780   \n",
       "min     4350.000000     1.000000       1.000000    69.000000     0.000000   \n",
       "25%     8450.000000    44.000000   43000.000000    88.000000     0.000000   \n",
       "50%     9900.000000    61.000000   63451.000000   110.000000     1.000000   \n",
       "75%    11950.000000    70.000000   87178.500000   110.000000     1.000000   \n",
       "max    32500.000000    80.000000  243000.000000   192.000000     1.000000   \n",
       "\n",
       "         Automatic           CC      Weight  \n",
       "count  1436.000000  1436.000000  1436.00000  \n",
       "mean      0.056407  1566.827994  1072.45961  \n",
       "std       0.230786   187.182436    52.64112  \n",
       "min       0.000000  1300.000000  1000.00000  \n",
       "25%       0.000000  1400.000000  1040.00000  \n",
       "50%       0.000000  1600.000000  1070.00000  \n",
       "75%       0.000000  1600.000000  1085.00000  \n",
       "max       1.000000  2000.000000  1615.00000  "
      ]
     },
     "execution_count": 103,
     "metadata": {},
     "output_type": "execute_result"
    }
   ],
   "source": [
    "cars_data2.describe()"
   ]
  },
  {
   "cell_type": "markdown",
   "metadata": {},
   "source": [
    "#### Although \"MetColor\" and \"Automatic\" are included in numerical category ... they belong to categorical variables \n",
    "#### 0 = False,..... 1 = True"
   ]
  },
  {
   "cell_type": "code",
   "execution_count": 104,
   "metadata": {},
   "outputs": [
    {
     "data": {
      "text/html": [
       "<div>\n",
       "<style scoped>\n",
       "    .dataframe tbody tr th:only-of-type {\n",
       "        vertical-align: middle;\n",
       "    }\n",
       "\n",
       "    .dataframe tbody tr th {\n",
       "        vertical-align: top;\n",
       "    }\n",
       "\n",
       "    .dataframe thead th {\n",
       "        text-align: right;\n",
       "    }\n",
       "</style>\n",
       "<table border=\"1\" class=\"dataframe\">\n",
       "  <thead>\n",
       "    <tr style=\"text-align: right;\">\n",
       "      <th></th>\n",
       "      <th>FuelType</th>\n",
       "      <th>Doors</th>\n",
       "    </tr>\n",
       "  </thead>\n",
       "  <tbody>\n",
       "    <tr>\n",
       "      <th>count</th>\n",
       "      <td>1431</td>\n",
       "      <td>1436</td>\n",
       "    </tr>\n",
       "    <tr>\n",
       "      <th>unique</th>\n",
       "      <td>3</td>\n",
       "      <td>7</td>\n",
       "    </tr>\n",
       "    <tr>\n",
       "      <th>top</th>\n",
       "      <td>Petrol</td>\n",
       "      <td>5</td>\n",
       "    </tr>\n",
       "    <tr>\n",
       "      <th>freq</th>\n",
       "      <td>1262</td>\n",
       "      <td>672</td>\n",
       "    </tr>\n",
       "  </tbody>\n",
       "</table>\n",
       "</div>"
      ],
      "text/plain": [
       "       FuelType Doors\n",
       "count      1431  1436\n",
       "unique        3     7\n",
       "top      Petrol     5\n",
       "freq       1262   672"
      ]
     },
     "execution_count": 104,
     "metadata": {},
     "output_type": "execute_result"
    }
   ],
   "source": [
    "cars_data2.describe(include = 'O')"
   ]
  },
  {
   "cell_type": "markdown",
   "metadata": {},
   "source": [
    "#### From numerical variables, missing values are present in Age, KM and HP\n",
    "\n",
    "#### Age\n",
    "mean: 56 months\n",
    "\n",
    "median: 61 months\n",
    "\n",
    "As there is no significant deviation from the Mean, we can replace the missing values with mean\n",
    "\n",
    "#### KM\n",
    "mean: 68672.035639\n",
    "\n",
    "median: 63451.000000\n",
    "\n",
    "As there is a significant difference of approx. 5000 KMs between mean and median, it is better to replace missing values with median\n",
    "\n",
    "#### HP\n",
    "mean: 101.502460\t\n",
    "\n",
    "median: 110.00000\n",
    "\n",
    "As there is no dignificant difference  between the mean and median, we can replace the missing values with mean"
   ]
  },
  {
   "cell_type": "code",
   "execution_count": null,
   "metadata": {},
   "outputs": [],
   "source": []
  },
  {
   "cell_type": "markdown",
   "metadata": {},
   "source": [
    "# FILLING THE MISSING VALUES OF NUMERICAL VARIABLES"
   ]
  },
  {
   "cell_type": "markdown",
   "metadata": {},
   "source": [
    "### Imputing missing values of 'Age' \n",
    "#### dataseries.fillna(value to be filled with, inplace= True/False)\n",
    "to fill NaN values with a specified value"
   ]
  },
  {
   "cell_type": "code",
   "execution_count": 105,
   "metadata": {},
   "outputs": [
    {
     "data": {
      "text/plain": [
       "56.02731092436975"
      ]
     },
     "execution_count": 105,
     "metadata": {},
     "output_type": "execute_result"
    }
   ],
   "source": [
    "cars_data2[\"Age\"].mean()"
   ]
  },
  {
   "cell_type": "code",
   "execution_count": 106,
   "metadata": {},
   "outputs": [],
   "source": [
    "cars_data2[\"Age\"].fillna(cars_data2[\"Age\"].mean(),\n",
    "                        inplace = True)"
   ]
  },
  {
   "cell_type": "code",
   "execution_count": 107,
   "metadata": {},
   "outputs": [
    {
     "name": "stdout",
     "output_type": "stream",
     "text": [
      "      Price   Age        KM FuelType     HP  MetColor  Automatic    CC  Doors  \\\n",
      "0      6500  23.0   46986.0      NaN   90.0       1.0          0  2000      3   \n",
      "1     13750  23.0       NaN   Diesel   90.0       NaN          0  2000  three   \n",
      "2     13950  24.0   41711.0   Diesel    NaN       1.0          0  2000      3   \n",
      "9     12950  23.0       NaN   Diesel   69.0       0.0          0  1900      3   \n",
      "19    16950  30.0   64359.0   Petrol  110.0       NaN          0  1600      3   \n",
      "23    16950  28.0   32220.0   Petrol    NaN       1.0          0  1600      3   \n",
      "28    16950  28.0   44142.0   Petrol  110.0       NaN          0  1600      3   \n",
      "44    16950  22.0  100250.0      NaN   90.0       0.0          0  2000      5   \n",
      "169   17795   9.0       NaN   Petrol   98.0       1.0          0  1400      4   \n",
      "170   18245   9.0       NaN   Petrol  110.0       1.0          0  1600      5   \n",
      "217   10950  41.0   75697.0   Petrol    NaN       1.0          0  1400      3   \n",
      "263   12750  40.0   50640.0   Petrol    NaN       1.0          0  1600      5   \n",
      "294   13950  42.0   42560.0   Petrol    NaN       1.0          0  1600      5   \n",
      "393    4450  56.0  129155.0   Diesel    NaN       0.0          0  1800      5   \n",
      "537    9550  54.0   46856.0   Petrol    NaN       0.0          0  1400      5   \n",
      "641    8950  68.0  119500.0   Petrol  110.0       NaN          0  1600      5   \n",
      "648    8000  64.0  116000.0      NaN   86.0       0.0          0  1300      5   \n",
      "718    9950  63.0   89000.0   Petrol  110.0       NaN          0  1600      5   \n",
      "771    7950  65.0   78076.0   Petrol    NaN       1.0          0  1300      3   \n",
      "981    9750  57.0   45000.0   Petrol    NaN       1.0          0  1600      3   \n",
      "990   10495  60.0   43426.0   Petrol    NaN       1.0          0  1600      5   \n",
      "1122   7460  80.0  111392.0      NaN  110.0       0.0          0  1598      3   \n",
      "1161   7950  77.0   98000.0   Petrol    NaN       1.0          0  1600      5   \n",
      "1278   7750  71.0   74000.0   Petrol    NaN       0.0          0  1600      3   \n",
      "1376   7800  73.0   56566.0      NaN  110.0       1.0          0  1600      3   \n",
      "1435   6950  76.0       NaN   Petrol    NaN       0.0          0  1600      5   \n",
      "\n",
      "      Weight  \n",
      "0       1165  \n",
      "1       1165  \n",
      "2       1165  \n",
      "9       1105  \n",
      "19      1105  \n",
      "23      1120  \n",
      "28      1120  \n",
      "44      1255  \n",
      "169     1065  \n",
      "170     1075  \n",
      "217     1025  \n",
      "263     1075  \n",
      "294     1080  \n",
      "393     1110  \n",
      "537     1060  \n",
      "641     1070  \n",
      "648     1045  \n",
      "718     1085  \n",
      "771     1015  \n",
      "981     1050  \n",
      "990     1070  \n",
      "1122    1083  \n",
      "1161    1065  \n",
      "1278    1050  \n",
      "1376    1050  \n",
      "1435    1114  \n",
      "(26, 10)\n"
     ]
    }
   ],
   "source": [
    "missing = cars_data2[cars_data2.isnull().any(axis =1)]\n",
    "print(missing)\n",
    "print(missing.shape)"
   ]
  },
  {
   "cell_type": "code",
   "execution_count": null,
   "metadata": {},
   "outputs": [],
   "source": []
  },
  {
   "cell_type": "markdown",
   "metadata": {},
   "source": [
    "### Imputing missing values of 'KM'"
   ]
  },
  {
   "cell_type": "code",
   "execution_count": 108,
   "metadata": {},
   "outputs": [
    {
     "data": {
      "text/plain": [
       "63451.0"
      ]
     },
     "execution_count": 108,
     "metadata": {},
     "output_type": "execute_result"
    }
   ],
   "source": [
    "cars_data2[\"KM\"].median()"
   ]
  },
  {
   "cell_type": "code",
   "execution_count": 109,
   "metadata": {},
   "outputs": [],
   "source": [
    "cars_data2[\"KM\"].fillna(cars_data2[\"KM\"].median(),\n",
    "                        inplace = True)"
   ]
  },
  {
   "cell_type": "code",
   "execution_count": 110,
   "metadata": {},
   "outputs": [
    {
     "name": "stdout",
     "output_type": "stream",
     "text": [
      "      Price   Age        KM FuelType     HP  MetColor  Automatic    CC  Doors  \\\n",
      "0      6500  23.0   46986.0      NaN   90.0       1.0          0  2000      3   \n",
      "1     13750  23.0   63451.0   Diesel   90.0       NaN          0  2000  three   \n",
      "2     13950  24.0   41711.0   Diesel    NaN       1.0          0  2000      3   \n",
      "19    16950  30.0   64359.0   Petrol  110.0       NaN          0  1600      3   \n",
      "23    16950  28.0   32220.0   Petrol    NaN       1.0          0  1600      3   \n",
      "28    16950  28.0   44142.0   Petrol  110.0       NaN          0  1600      3   \n",
      "44    16950  22.0  100250.0      NaN   90.0       0.0          0  2000      5   \n",
      "217   10950  41.0   75697.0   Petrol    NaN       1.0          0  1400      3   \n",
      "263   12750  40.0   50640.0   Petrol    NaN       1.0          0  1600      5   \n",
      "294   13950  42.0   42560.0   Petrol    NaN       1.0          0  1600      5   \n",
      "393    4450  56.0  129155.0   Diesel    NaN       0.0          0  1800      5   \n",
      "537    9550  54.0   46856.0   Petrol    NaN       0.0          0  1400      5   \n",
      "641    8950  68.0  119500.0   Petrol  110.0       NaN          0  1600      5   \n",
      "648    8000  64.0  116000.0      NaN   86.0       0.0          0  1300      5   \n",
      "718    9950  63.0   89000.0   Petrol  110.0       NaN          0  1600      5   \n",
      "771    7950  65.0   78076.0   Petrol    NaN       1.0          0  1300      3   \n",
      "981    9750  57.0   45000.0   Petrol    NaN       1.0          0  1600      3   \n",
      "990   10495  60.0   43426.0   Petrol    NaN       1.0          0  1600      5   \n",
      "1122   7460  80.0  111392.0      NaN  110.0       0.0          0  1598      3   \n",
      "1161   7950  77.0   98000.0   Petrol    NaN       1.0          0  1600      5   \n",
      "1278   7750  71.0   74000.0   Petrol    NaN       0.0          0  1600      3   \n",
      "1376   7800  73.0   56566.0      NaN  110.0       1.0          0  1600      3   \n",
      "1435   6950  76.0   63451.0   Petrol    NaN       0.0          0  1600      5   \n",
      "\n",
      "      Weight  \n",
      "0       1165  \n",
      "1       1165  \n",
      "2       1165  \n",
      "19      1105  \n",
      "23      1120  \n",
      "28      1120  \n",
      "44      1255  \n",
      "217     1025  \n",
      "263     1075  \n",
      "294     1080  \n",
      "393     1110  \n",
      "537     1060  \n",
      "641     1070  \n",
      "648     1045  \n",
      "718     1085  \n",
      "771     1015  \n",
      "981     1050  \n",
      "990     1070  \n",
      "1122    1083  \n",
      "1161    1065  \n",
      "1278    1050  \n",
      "1376    1050  \n",
      "1435    1114  \n",
      "(23, 10)\n"
     ]
    }
   ],
   "source": [
    "missing = cars_data2[cars_data2.isnull().any(axis =1)]\n",
    "print(missing)\n",
    "print(missing.shape)"
   ]
  },
  {
   "cell_type": "code",
   "execution_count": null,
   "metadata": {},
   "outputs": [],
   "source": []
  },
  {
   "cell_type": "markdown",
   "metadata": {},
   "source": [
    "### Imputing missing values of 'HP'"
   ]
  },
  {
   "cell_type": "code",
   "execution_count": 111,
   "metadata": {},
   "outputs": [
    {
     "data": {
      "text/plain": [
       "101.5024595924104"
      ]
     },
     "execution_count": 111,
     "metadata": {},
     "output_type": "execute_result"
    }
   ],
   "source": [
    "cars_data2[\"HP\"].mean()"
   ]
  },
  {
   "cell_type": "code",
   "execution_count": 112,
   "metadata": {},
   "outputs": [],
   "source": [
    "cars_data2[\"HP\"].fillna(cars_data2[\"HP\"].mean(),\n",
    "                        inplace = True)"
   ]
  },
  {
   "cell_type": "code",
   "execution_count": 113,
   "metadata": {},
   "outputs": [
    {
     "name": "stdout",
     "output_type": "stream",
     "text": [
      "      Price   Age        KM FuelType     HP  MetColor  Automatic    CC  Doors  \\\n",
      "0      6500  23.0   46986.0      NaN   90.0       1.0          0  2000      3   \n",
      "1     13750  23.0   63451.0   Diesel   90.0       NaN          0  2000  three   \n",
      "19    16950  30.0   64359.0   Petrol  110.0       NaN          0  1600      3   \n",
      "28    16950  28.0   44142.0   Petrol  110.0       NaN          0  1600      3   \n",
      "44    16950  22.0  100250.0      NaN   90.0       0.0          0  2000      5   \n",
      "641    8950  68.0  119500.0   Petrol  110.0       NaN          0  1600      5   \n",
      "648    8000  64.0  116000.0      NaN   86.0       0.0          0  1300      5   \n",
      "718    9950  63.0   89000.0   Petrol  110.0       NaN          0  1600      5   \n",
      "1122   7460  80.0  111392.0      NaN  110.0       0.0          0  1598      3   \n",
      "1376   7800  73.0   56566.0      NaN  110.0       1.0          0  1600      3   \n",
      "\n",
      "      Weight  \n",
      "0       1165  \n",
      "1       1165  \n",
      "19      1105  \n",
      "28      1120  \n",
      "44      1255  \n",
      "641     1070  \n",
      "648     1045  \n",
      "718     1085  \n",
      "1122    1083  \n",
      "1376    1050  \n",
      "(10, 10)\n"
     ]
    }
   ],
   "source": [
    "missing = cars_data2[cars_data2.isnull().any(axis =1)]\n",
    "print(missing)\n",
    "print(missing.shape)"
   ]
  },
  {
   "cell_type": "code",
   "execution_count": null,
   "metadata": {},
   "outputs": [],
   "source": []
  },
  {
   "cell_type": "markdown",
   "metadata": {},
   "source": [
    "### CHECKING THE MISSING DATA NOW "
   ]
  },
  {
   "cell_type": "code",
   "execution_count": 114,
   "metadata": {},
   "outputs": [
    {
     "name": "stdout",
     "output_type": "stream",
     "text": [
      "Price        0\n",
      "Age          0\n",
      "KM           0\n",
      "FuelType     5\n",
      "HP           0\n",
      "MetColor     5\n",
      "Automatic    0\n",
      "CC           0\n",
      "Doors        0\n",
      "Weight       0\n",
      "dtype: int64\n"
     ]
    }
   ],
   "source": [
    "print(cars_data2.isnull().sum())"
   ]
  },
  {
   "cell_type": "code",
   "execution_count": null,
   "metadata": {},
   "outputs": [],
   "source": []
  },
  {
   "cell_type": "markdown",
   "metadata": {},
   "source": [
    "# FILLING THE MISSING VALUES OF CATEGORICAL VARIABLES"
   ]
  },
  {
   "cell_type": "code",
   "execution_count": 18,
   "metadata": {},
   "outputs": [
    {
     "name": "stdout",
     "output_type": "stream",
     "text": [
      "Petrol    1262\n",
      "Diesel     153\n",
      "CNG         16\n",
      "Name: FuelType, dtype: int64\n",
      "\n",
      "\n",
      "1.0    965\n",
      "0.0    466\n",
      "Name: MetColor, dtype: int64\n"
     ]
    }
   ],
   "source": [
    "print(cars_data2[\"FuelType\"].value_counts())\n",
    "print(\"\\n\")\n",
    "print(cars_data2[\"MetColor\"].value_counts())"
   ]
  },
  {
   "cell_type": "code",
   "execution_count": null,
   "metadata": {},
   "outputs": [],
   "source": []
  },
  {
   "cell_type": "markdown",
   "metadata": {},
   "source": [
    "Modal value of FuelType is : Petrol\n",
    "\n",
    "Modal value of MetColor is : 1.0"
   ]
  },
  {
   "cell_type": "markdown",
   "metadata": {},
   "source": [
    "#### modal value can also be found out by below method:\n",
    "Since it value_counts() returns a series of unique value in decending order of the frequency... the first element is always the modal value"
   ]
  },
  {
   "cell_type": "code",
   "execution_count": 58,
   "metadata": {},
   "outputs": [
    {
     "name": "stdout",
     "output_type": "stream",
     "text": [
      "Petrol\n",
      "1.0\n"
     ]
    }
   ],
   "source": [
    "print(cars_data2[\"FuelType\"].value_counts().index[0])\n",
    "print(cars_data2[\"MetColor\"].value_counts().index[0])"
   ]
  },
  {
   "cell_type": "code",
   "execution_count": null,
   "metadata": {},
   "outputs": [],
   "source": []
  },
  {
   "cell_type": "markdown",
   "metadata": {},
   "source": [
    "### Imputing missing values of 'FuelType' "
   ]
  },
  {
   "cell_type": "code",
   "execution_count": 116,
   "metadata": {},
   "outputs": [],
   "source": [
    "cars_data2[\"FuelType\"].fillna(cars_data2[\"FuelType\"].value_counts().index[0],\n",
    "                        inplace = True)\n",
    "\n",
    "## Here we are not specifying 'petrol' directly... so that the code is generallized... need not be tweaked later if reqd"
   ]
  },
  {
   "cell_type": "code",
   "execution_count": 117,
   "metadata": {},
   "outputs": [
    {
     "name": "stdout",
     "output_type": "stream",
     "text": [
      "     Price   Age        KM FuelType     HP  MetColor  Automatic    CC  Doors  \\\n",
      "1    13750  23.0   63451.0   Diesel   90.0       NaN          0  2000  three   \n",
      "19   16950  30.0   64359.0   Petrol  110.0       NaN          0  1600      3   \n",
      "28   16950  28.0   44142.0   Petrol  110.0       NaN          0  1600      3   \n",
      "641   8950  68.0  119500.0   Petrol  110.0       NaN          0  1600      5   \n",
      "718   9950  63.0   89000.0   Petrol  110.0       NaN          0  1600      5   \n",
      "\n",
      "     Weight  \n",
      "1      1165  \n",
      "19     1105  \n",
      "28     1120  \n",
      "641    1070  \n",
      "718    1085  \n"
     ]
    }
   ],
   "source": [
    "missing = cars_data2[cars_data2.isnull().any(axis =1)]\n",
    "print(missing)"
   ]
  },
  {
   "cell_type": "code",
   "execution_count": null,
   "metadata": {},
   "outputs": [],
   "source": []
  },
  {
   "cell_type": "markdown",
   "metadata": {},
   "source": [
    "### Imputing missing values of 'MetColor'"
   ]
  },
  {
   "cell_type": "code",
   "execution_count": 25,
   "metadata": {},
   "outputs": [
    {
     "data": {
      "text/plain": [
       "1.0"
      ]
     },
     "execution_count": 25,
     "metadata": {},
     "output_type": "execute_result"
    }
   ],
   "source": [
    "cars_data2[\"MetColor\"].mode()[0]"
   ]
  },
  {
   "cell_type": "code",
   "execution_count": 119,
   "metadata": {},
   "outputs": [],
   "source": [
    "#cars_data2[\"MetColor\"].fillna(cars_data2[\"MetColor\"].mode().index[0],inplace = True)\n",
    "cars_data2[\"MetColor\"].fillna(cars_data2[\"MetColor\"].mode().index[0], inplace = True)\n",
    "## when using mode(), we need to index it as it returns output with index 0... i.e. value of 1st index"
   ]
  },
  {
   "cell_type": "code",
   "execution_count": 120,
   "metadata": {},
   "outputs": [
    {
     "name": "stdout",
     "output_type": "stream",
     "text": [
      "Empty DataFrame\n",
      "Columns: [Price, Age, KM, FuelType, HP, MetColor, Automatic, CC, Doors, Weight]\n",
      "Index: []\n"
     ]
    }
   ],
   "source": [
    "missing = cars_data2[cars_data2.isnull().any(axis =1)]\n",
    "print(missing)"
   ]
  },
  {
   "cell_type": "code",
   "execution_count": null,
   "metadata": {},
   "outputs": [],
   "source": []
  },
  {
   "cell_type": "markdown",
   "metadata": {},
   "source": [
    "### CHECKING THE MISSING DATA NOW "
   ]
  },
  {
   "cell_type": "code",
   "execution_count": 121,
   "metadata": {},
   "outputs": [
    {
     "name": "stdout",
     "output_type": "stream",
     "text": [
      "Price        0\n",
      "Age          0\n",
      "KM           0\n",
      "FuelType     0\n",
      "HP           0\n",
      "MetColor     0\n",
      "Automatic    0\n",
      "CC           0\n",
      "Doors        0\n",
      "Weight       0\n",
      "dtype: int64\n"
     ]
    }
   ],
   "source": [
    "print(cars_data2.isnull().sum())"
   ]
  },
  {
   "cell_type": "code",
   "execution_count": null,
   "metadata": {},
   "outputs": [],
   "source": []
  },
  {
   "cell_type": "code",
   "execution_count": null,
   "metadata": {},
   "outputs": [],
   "source": []
  },
  {
   "cell_type": "markdown",
   "metadata": {},
   "source": [
    "# FILLING BOTH NUMERICAL AND CATEGORICAL VARIABLES AT A SINGLE GO\n",
    "\n",
    "# USING LAMBDA FUNCTION"
   ]
  },
  {
   "cell_type": "code",
   "execution_count": 182,
   "metadata": {
    "collapsed": true
   },
   "outputs": [
    {
     "name": "stdout",
     "output_type": "stream",
     "text": [
      "      Price   Age       KM FuelType    HP  MetColor  Automatic    CC  Doors  \\\n",
      "0      6500  23.0  46986.0      NaN  90.0       1.0          0  2000      3   \n",
      "1     13750  23.0      NaN   Diesel  90.0       NaN          0  2000  three   \n",
      "2     13950  24.0  41711.0   Diesel   NaN       1.0          0  2000      3   \n",
      "3     14950   NaN  48000.0   Diesel  90.0       0.0          0  2000      3   \n",
      "4     13750  30.0  38500.0   Diesel  90.0       0.0          0  2000      3   \n",
      "...     ...   ...      ...      ...   ...       ...        ...   ...    ...   \n",
      "1431   7500  69.0  20544.0   Petrol  86.0       1.0          0  1300      3   \n",
      "1432  10845  72.0  19000.0   Petrol  86.0       0.0          0  1300      3   \n",
      "1433   8500  71.0  17016.0   Petrol  86.0       0.0          0  1300      3   \n",
      "1434   7250  70.0  16916.0   Petrol  86.0       1.0          0  1300      3   \n",
      "1435   6950  76.0      NaN   Petrol   NaN       0.0          0  1600      5   \n",
      "\n",
      "      Weight  \n",
      "0       1165  \n",
      "1       1165  \n",
      "2       1165  \n",
      "3       1165  \n",
      "4       1170  \n",
      "...      ...  \n",
      "1431    1025  \n",
      "1432    1015  \n",
      "1433    1015  \n",
      "1434    1015  \n",
      "1435    1114  \n",
      "\n",
      "[1436 rows x 10 columns]\n",
      "<class 'pandas.core.frame.DataFrame'>\n",
      "RangeIndex: 1436 entries, 0 to 1435\n",
      "Data columns (total 10 columns):\n",
      " #   Column     Non-Null Count  Dtype  \n",
      "---  ------     --------------  -----  \n",
      " 0   Price      1436 non-null   int64  \n",
      " 1   Age        1428 non-null   float64\n",
      " 2   KM         1431 non-null   float64\n",
      " 3   FuelType   1431 non-null   object \n",
      " 4   HP         1423 non-null   float64\n",
      " 5   MetColor   1431 non-null   float64\n",
      " 6   Automatic  1436 non-null   int64  \n",
      " 7   CC         1436 non-null   int64  \n",
      " 8   Doors      1436 non-null   object \n",
      " 9   Weight     1436 non-null   int64  \n",
      "dtypes: float64(4), int64(4), object(2)\n",
      "memory usage: 112.3+ KB\n",
      "None\n"
     ]
    }
   ],
   "source": [
    "print(cars_data3)\n",
    "print(cars_data3.info())"
   ]
  },
  {
   "cell_type": "markdown",
   "metadata": {},
   "source": [
    "#### CHECKING THE MISSING DATA"
   ]
  },
  {
   "cell_type": "code",
   "execution_count": 183,
   "metadata": {
    "collapsed": true
   },
   "outputs": [
    {
     "name": "stdout",
     "output_type": "stream",
     "text": [
      "Price         0\n",
      "Age           8\n",
      "KM            5\n",
      "FuelType      5\n",
      "HP           13\n",
      "MetColor      5\n",
      "Automatic     0\n",
      "CC            0\n",
      "Doors         0\n",
      "Weight        0\n",
      "dtype: int64\n"
     ]
    }
   ],
   "source": [
    "print(cars_data3.isnull().sum())"
   ]
  },
  {
   "cell_type": "code",
   "execution_count": null,
   "metadata": {},
   "outputs": [],
   "source": []
  },
  {
   "cell_type": "markdown",
   "metadata": {},
   "source": [
    "#### Dataframe = Dataframe.apply(lambda x: x.fillna(x.mean()) if x.dtype == \"float\" or x.dtype == 'int' else x.fillna(x.value_counts().index[0])) "
   ]
  },
  {
   "cell_type": "code",
   "execution_count": null,
   "metadata": {},
   "outputs": [],
   "source": []
  },
  {
   "cell_type": "code",
   "execution_count": 184,
   "metadata": {},
   "outputs": [],
   "source": [
    "cars_data3 = cars_data3.apply(lambda x: \n",
    "                              x.fillna(x.mean()) if (x.dtype == \"float\" or x.dtype == 'int')\n",
    "                              else x.fillna(x.value_counts().index[0]))"
   ]
  },
  {
   "cell_type": "code",
   "execution_count": 185,
   "metadata": {},
   "outputs": [
    {
     "name": "stdout",
     "output_type": "stream",
     "text": [
      "      Price        Age            KM FuelType         HP  MetColor  Automatic  \\\n",
      "0      6500  23.000000  46986.000000   Petrol   90.00000  1.000000          0   \n",
      "1     13750  23.000000  68672.035639   Diesel   90.00000  0.674354          0   \n",
      "2     13950  24.000000  41711.000000   Diesel  101.50246  1.000000          0   \n",
      "3     14950  56.027311  48000.000000   Diesel   90.00000  0.000000          0   \n",
      "4     13750  30.000000  38500.000000   Diesel   90.00000  0.000000          0   \n",
      "...     ...        ...           ...      ...        ...       ...        ...   \n",
      "1431   7500  69.000000  20544.000000   Petrol   86.00000  1.000000          0   \n",
      "1432  10845  72.000000  19000.000000   Petrol   86.00000  0.000000          0   \n",
      "1433   8500  71.000000  17016.000000   Petrol   86.00000  0.000000          0   \n",
      "1434   7250  70.000000  16916.000000   Petrol   86.00000  1.000000          0   \n",
      "1435   6950  76.000000  68672.035639   Petrol  101.50246  0.000000          0   \n",
      "\n",
      "        CC  Doors  Weight  \n",
      "0     2000      3    1165  \n",
      "1     2000  three    1165  \n",
      "2     2000      3    1165  \n",
      "3     2000      3    1165  \n",
      "4     2000      3    1170  \n",
      "...    ...    ...     ...  \n",
      "1431  1300      3    1025  \n",
      "1432  1300      3    1015  \n",
      "1433  1300      3    1015  \n",
      "1434  1300      3    1015  \n",
      "1435  1600      5    1114  \n",
      "\n",
      "[1436 rows x 10 columns]\n",
      "Price        0\n",
      "Age          0\n",
      "KM           0\n",
      "FuelType     0\n",
      "HP           0\n",
      "MetColor     0\n",
      "Automatic    0\n",
      "CC           0\n",
      "Doors        0\n",
      "Weight       0\n",
      "dtype: int64\n"
     ]
    }
   ],
   "source": [
    "print(cars_data3)\n",
    "print(cars_data3.isnull().sum())"
   ]
  },
  {
   "cell_type": "code",
   "execution_count": null,
   "metadata": {},
   "outputs": [],
   "source": []
  },
  {
   "cell_type": "code",
   "execution_count": null,
   "metadata": {},
   "outputs": [],
   "source": []
  },
  {
   "cell_type": "code",
   "execution_count": null,
   "metadata": {},
   "outputs": [],
   "source": []
  },
  {
   "cell_type": "code",
   "execution_count": null,
   "metadata": {},
   "outputs": [],
   "source": []
  },
  {
   "cell_type": "code",
   "execution_count": null,
   "metadata": {},
   "outputs": [],
   "source": []
  }
 ],
 "metadata": {
  "kernelspec": {
   "display_name": "Python 3",
   "language": "python",
   "name": "python3"
  },
  "language_info": {
   "codemirror_mode": {
    "name": "ipython",
    "version": 3
   },
   "file_extension": ".py",
   "mimetype": "text/x-python",
   "name": "python",
   "nbconvert_exporter": "python",
   "pygments_lexer": "ipython3",
   "version": "3.8.5"
  }
 },
 "nbformat": 4,
 "nbformat_minor": 4
}
