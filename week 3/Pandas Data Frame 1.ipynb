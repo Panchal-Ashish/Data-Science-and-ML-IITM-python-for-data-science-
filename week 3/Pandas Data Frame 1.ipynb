{
 "cells": [
  {
   "cell_type": "code",
   "execution_count": 1,
   "metadata": {},
   "outputs": [],
   "source": [
    "import pandas as pd\n",
    "import numpy as np\n"
   ]
  },
  {
   "cell_type": "code",
   "execution_count": 2,
   "metadata": {},
   "outputs": [
    {
     "name": "stdout",
     "output_type": "stream",
     "text": [
      "        x coor  y coor  z coor\n",
      "sr. no                        \n",
      "1           10     5.0    20.0\n",
      "2           20     NaN     NaN\n",
      "3           30    15.0    40.0\n",
      "4           40    20.0    60.0\n",
      "5           50     NaN    80.0\n",
      "6           60    30.0   100.0\n",
      "7           70    35.0     NaN\n",
      "8           80    40.0   120.0\n",
      "9           90     NaN   140.0\n",
      "10         100    45.0   160.0\n",
      "\n",
      "\n"
     ]
    }
   ],
   "source": [
    "data_csv = pd.read_csv(\"reading_data_testing.csv\",index_col = 0, na_values = ['??',\"###\"])\n",
    "print(data_csv)\n",
    "print(\"\\n\")"
   ]
  },
  {
   "cell_type": "code",
   "execution_count": null,
   "metadata": {},
   "outputs": [],
   "source": []
  },
  {
   "cell_type": "markdown",
   "metadata": {},
   "source": [
    "## DATA ATTRIBUTES "
   ]
  },
  {
   "cell_type": "code",
   "execution_count": 24,
   "metadata": {},
   "outputs": [
    {
     "name": "stdout",
     "output_type": "stream",
     "text": [
      "sr. no\n",
      "1      10\n",
      "2      20\n",
      "3      30\n",
      "4      40\n",
      "5      50\n",
      "6      60\n",
      "7      70\n",
      "8      80\n",
      "9      90\n",
      "10    100\n",
      "Name: x coor, dtype: int64\n",
      "\n",
      "\n",
      "        x coor  y coor  z coor\n",
      "sr. no                        \n",
      "1           10     5.0    20.0\n",
      "\n",
      "\n",
      "Int64Index([1, 2, 3, 4, 5, 6, 7, 8, 9, 10], dtype='int64', name='sr. no')\n",
      "\n",
      "\n",
      "Index(['x coor', 'y coor', 'z coor'], dtype='object')\n",
      "\n",
      "\n"
     ]
    }
   ],
   "source": [
    "# PRINTING A PARTICULAR COLUMN\n",
    "print(data_csv[\"x coor\"])\n",
    "print(\"\\n\")\n",
    "\n",
    "# PRINTING A PARTICULAR ROW\n",
    "print(data_csv[data_csv[\"x coor\"] == 10])\n",
    "print(\"\\n\")\n",
    "\n",
    "# GETTING THE INDEX (ROW LABELS)\n",
    "print(data_csv.index)\n",
    "print(\"\\n\")\n",
    "\n",
    "# GETTING COLUMN NAMES (COLUMN LABELS)\n",
    "print(data_csv.columns)\n",
    "print(\"\\n\")"
   ]
  },
  {
   "cell_type": "code",
   "execution_count": 25,
   "metadata": {},
   "outputs": [
    {
     "name": "stdout",
     "output_type": "stream",
     "text": [
      "30\n",
      "\n",
      "\n",
      "(10, 3)\n",
      "\n",
      "\n",
      "Index     80\n",
      "x coor    80\n",
      "y coor    80\n",
      "z coor    80\n",
      "dtype: int64\n",
      "\n",
      "\n",
      "2\n",
      "\n",
      "\n"
     ]
    }
   ],
   "source": [
    "# TO GET TOTAL NUMBER OF ELEMENTS FROM DATAFRAME\n",
    "print(data_csv.size)\n",
    "print(\"\\n\")\n",
    "\n",
    "# TO GET DIMENSIONALITY OF DATAFRAME... (ROWS, COLUMNS)\n",
    "print(data_csv.shape)\n",
    "print(\"\\n\")\n",
    "\n",
    "#TO GET MEMORY USAGE OF EACH COLUMN IN BYTES\n",
    "print(data_csv.memory_usage())\n",
    "print(\"\\n\")\n",
    "\n",
    "# TO GET NUMBER OF AXES / ARRAY DIMENSIONS\n",
    "print(data_csv.ndim)\n",
    "print(\"\\n\")"
   ]
  },
  {
   "cell_type": "code",
   "execution_count": null,
   "metadata": {},
   "outputs": [],
   "source": []
  },
  {
   "cell_type": "markdown",
   "metadata": {},
   "source": [
    "## INDEXING AND SELECTING DATA \n",
    "\n",
    "below methods can also be used to access a particular data\n",
    "\n",
    "Dataframe.loc()\n",
    "\n",
    "Dataframe.iloc()"
   ]
  },
  {
   "cell_type": "markdown",
   "metadata": {},
   "source": [
    "#### Dataframe.head([n])\n",
    "\n",
    "Returns first 'n' rows from the dataframe\n",
    "\n",
    "by default, n = 5 ... so it returns first 5 rows"
   ]
  },
  {
   "cell_type": "code",
   "execution_count": 26,
   "metadata": {},
   "outputs": [
    {
     "name": "stdout",
     "output_type": "stream",
     "text": [
      "        x coor  y coor  z coor\n",
      "sr. no                        \n",
      "1           10     5.0    20.0\n",
      "2           20     NaN     NaN\n",
      "3           30    15.0    40.0\n",
      "4           40    20.0    60.0\n",
      "5           50     NaN    80.0\n",
      "\n",
      "\n",
      "        x coor  y coor  z coor\n",
      "sr. no                        \n",
      "1           10     5.0    20.0\n",
      "2           20     NaN     NaN\n",
      "3           30    15.0    40.0\n"
     ]
    }
   ],
   "source": [
    "print(data_csv.head())\n",
    "print(\"\\n\")\n",
    "print(data_csv.head(3))"
   ]
  },
  {
   "cell_type": "code",
   "execution_count": null,
   "metadata": {},
   "outputs": [],
   "source": []
  },
  {
   "cell_type": "markdown",
   "metadata": {},
   "source": [
    "#### Dataframe.tail([n])\n",
    "\n",
    "Returns last 'n' rows from the dataframe\n",
    "\n",
    "by default, n = 5 ... so it returns last 5 rows"
   ]
  },
  {
   "cell_type": "code",
   "execution_count": 27,
   "metadata": {},
   "outputs": [
    {
     "name": "stdout",
     "output_type": "stream",
     "text": [
      "        x coor  y coor  z coor\n",
      "sr. no                        \n",
      "6           60    30.0   100.0\n",
      "7           70    35.0     NaN\n",
      "8           80    40.0   120.0\n",
      "9           90     NaN   140.0\n",
      "10         100    45.0   160.0\n",
      "\n",
      "\n",
      "        x coor  y coor  z coor\n",
      "sr. no                        \n",
      "8           80    40.0   120.0\n",
      "9           90     NaN   140.0\n",
      "10         100    45.0   160.0\n"
     ]
    }
   ],
   "source": [
    "print(data_csv.tail())\n",
    "print(\"\\n\")\n",
    "print(data_csv.tail(3))"
   ]
  },
  {
   "cell_type": "code",
   "execution_count": null,
   "metadata": {},
   "outputs": [],
   "source": []
  },
  {
   "cell_type": "markdown",
   "metadata": {},
   "source": [
    "\n",
    "### To access a scalar value, there are two methods...\n",
    "\n",
    "#### Dataframe.at [row_label , column_label]\n",
    "'at' - provides label based scalar based lookup (search)\n",
    "\n",
    "#### Dataframe.iat [row_label_index  (int), column_label_index (int)]\n",
    "'iat' - provides integer based scalar based lookup (search)\n",
    "\n",
    "\n",
    "### .at() and .iat() are used to access a particular value/cell"
   ]
  },
  {
   "cell_type": "code",
   "execution_count": 25,
   "metadata": {},
   "outputs": [
    {
     "name": "stdout",
     "output_type": "stream",
     "text": [
      "15.0\n",
      "15.0\n"
     ]
    }
   ],
   "source": [
    "print(data_csv.at[3,\"y coor\"])\n",
    "print(data_csv.iat[2,1])"
   ]
  },
  {
   "cell_type": "code",
   "execution_count": null,
   "metadata": {},
   "outputs": [],
   "source": []
  },
  {
   "cell_type": "markdown",
   "metadata": {},
   "source": [
    "#### Dataframe.loc[row_label_start:row_label_stop , column_label_start:column_label_stop]\n",
    "\n",
    "To access group of rows and columns by labels\n",
    "\n",
    "can also specify the list of column labels to get specific columns if the are not serailly ordered\n",
    "\n",
    "default ... ':' ... all\n",
    "\n",
    "### .loc() and .iloc() are used to access a range of rows and columns"
   ]
  },
  {
   "cell_type": "code",
   "execution_count": 32,
   "metadata": {},
   "outputs": [
    {
     "name": "stdout",
     "output_type": "stream",
     "text": [
      "        x coor  y coor  z coor\n",
      "sr. no                        \n",
      "1           10     5.0    20.0\n",
      "2           20     NaN     NaN\n",
      "3           30    15.0    40.0\n",
      "4           40    20.0    60.0\n",
      "5           50     NaN    80.0\n",
      "6           60    30.0   100.0\n",
      "7           70    35.0     NaN\n",
      "8           80    40.0   120.0\n",
      "9           90     NaN   140.0\n",
      "10         100    45.0   160.0\n",
      "\n",
      "\n",
      "sr. no\n",
      "3    30\n",
      "4    40\n",
      "5    50\n",
      "6    60\n",
      "Name: x coor, dtype: int64\n",
      "\n",
      "\n",
      "        x coor  y coor\n",
      "sr. no                \n",
      "3           30    15.0\n",
      "4           40    20.0\n",
      "5           50     NaN\n",
      "6           60    30.0\n"
     ]
    }
   ],
   "source": [
    "print(data_csv.loc[:,[\"x coor\",\"y coor\",\"z coor\"]])\n",
    "print(\"\\n\")\n",
    "print(data_csv.loc[3:6 , \"x coor\"])\n",
    "print(\"\\n\")\n",
    "print(data_csv.loc[3:6 , \"x coor\":\"y coor\"])"
   ]
  },
  {
   "cell_type": "code",
   "execution_count": null,
   "metadata": {},
   "outputs": [],
   "source": []
  },
  {
   "cell_type": "code",
   "execution_count": 15,
   "metadata": {},
   "outputs": [
    {
     "name": "stdout",
     "output_type": "stream",
     "text": [
      "        x coor  z coor  y coor\n",
      "sr. no                        \n",
      "1           10    20.0     5.0\n",
      "2           20     NaN     NaN\n",
      "3           30    40.0    15.0\n",
      "4           40    60.0    20.0\n",
      "5           50    80.0     NaN\n",
      "6           60   100.0    30.0\n",
      "7           70     NaN    35.0\n",
      "8           80   120.0    40.0\n",
      "9           90   140.0     NaN\n",
      "10         100   160.0    45.0\n",
      "\n",
      "\n",
      "sr. no\n",
      "4    40\n",
      "5    50\n",
      "6    60\n",
      "Name: x coor, dtype: int64\n",
      "\n",
      "\n",
      "        x coor  y coor\n",
      "sr. no                \n",
      "4           40    20.0\n",
      "5           50     NaN\n",
      "6           60    30.0\n"
     ]
    }
   ],
   "source": [
    "print(data_csv.iloc[:,[0,2,1]])\n",
    "print(\"\\n\")\n",
    "print(data_csv.iloc[3:6 , 0])\n",
    "print(\"\\n\")\n",
    "print(data_csv.iloc[3:6 , 0:2])"
   ]
  },
  {
   "cell_type": "code",
   "execution_count": null,
   "metadata": {},
   "outputs": [],
   "source": []
  },
  {
   "cell_type": "code",
   "execution_count": null,
   "metadata": {},
   "outputs": [],
   "source": []
  },
  {
   "cell_type": "code",
   "execution_count": null,
   "metadata": {},
   "outputs": [],
   "source": []
  },
  {
   "cell_type": "code",
   "execution_count": null,
   "metadata": {},
   "outputs": [],
   "source": []
  },
  {
   "cell_type": "code",
   "execution_count": null,
   "metadata": {},
   "outputs": [],
   "source": []
  },
  {
   "cell_type": "code",
   "execution_count": null,
   "metadata": {},
   "outputs": [],
   "source": []
  },
  {
   "cell_type": "code",
   "execution_count": null,
   "metadata": {},
   "outputs": [],
   "source": []
  },
  {
   "cell_type": "code",
   "execution_count": null,
   "metadata": {},
   "outputs": [],
   "source": []
  },
  {
   "cell_type": "code",
   "execution_count": null,
   "metadata": {},
   "outputs": [],
   "source": []
  },
  {
   "cell_type": "code",
   "execution_count": null,
   "metadata": {},
   "outputs": [],
   "source": []
  },
  {
   "cell_type": "code",
   "execution_count": null,
   "metadata": {},
   "outputs": [],
   "source": []
  },
  {
   "cell_type": "code",
   "execution_count": null,
   "metadata": {},
   "outputs": [],
   "source": []
  },
  {
   "cell_type": "code",
   "execution_count": null,
   "metadata": {},
   "outputs": [],
   "source": []
  },
  {
   "cell_type": "code",
   "execution_count": null,
   "metadata": {},
   "outputs": [],
   "source": []
  },
  {
   "cell_type": "code",
   "execution_count": null,
   "metadata": {},
   "outputs": [],
   "source": []
  },
  {
   "cell_type": "code",
   "execution_count": null,
   "metadata": {},
   "outputs": [],
   "source": []
  },
  {
   "cell_type": "code",
   "execution_count": null,
   "metadata": {},
   "outputs": [],
   "source": []
  },
  {
   "cell_type": "code",
   "execution_count": null,
   "metadata": {},
   "outputs": [],
   "source": []
  },
  {
   "cell_type": "code",
   "execution_count": null,
   "metadata": {},
   "outputs": [],
   "source": []
  },
  {
   "cell_type": "code",
   "execution_count": null,
   "metadata": {},
   "outputs": [],
   "source": []
  },
  {
   "cell_type": "code",
   "execution_count": null,
   "metadata": {},
   "outputs": [],
   "source": []
  },
  {
   "cell_type": "code",
   "execution_count": null,
   "metadata": {},
   "outputs": [],
   "source": []
  },
  {
   "cell_type": "code",
   "execution_count": null,
   "metadata": {},
   "outputs": [],
   "source": []
  },
  {
   "cell_type": "code",
   "execution_count": null,
   "metadata": {},
   "outputs": [],
   "source": []
  },
  {
   "cell_type": "code",
   "execution_count": null,
   "metadata": {},
   "outputs": [],
   "source": []
  },
  {
   "cell_type": "code",
   "execution_count": null,
   "metadata": {},
   "outputs": [],
   "source": []
  },
  {
   "cell_type": "code",
   "execution_count": null,
   "metadata": {},
   "outputs": [],
   "source": []
  },
  {
   "cell_type": "code",
   "execution_count": null,
   "metadata": {},
   "outputs": [],
   "source": []
  },
  {
   "cell_type": "code",
   "execution_count": null,
   "metadata": {},
   "outputs": [],
   "source": []
  },
  {
   "cell_type": "code",
   "execution_count": null,
   "metadata": {},
   "outputs": [],
   "source": []
  },
  {
   "cell_type": "code",
   "execution_count": null,
   "metadata": {},
   "outputs": [],
   "source": []
  },
  {
   "cell_type": "code",
   "execution_count": null,
   "metadata": {},
   "outputs": [],
   "source": []
  },
  {
   "cell_type": "code",
   "execution_count": null,
   "metadata": {},
   "outputs": [],
   "source": []
  },
  {
   "cell_type": "code",
   "execution_count": null,
   "metadata": {},
   "outputs": [],
   "source": []
  },
  {
   "cell_type": "code",
   "execution_count": null,
   "metadata": {},
   "outputs": [],
   "source": []
  },
  {
   "cell_type": "code",
   "execution_count": null,
   "metadata": {},
   "outputs": [],
   "source": []
  },
  {
   "cell_type": "code",
   "execution_count": null,
   "metadata": {},
   "outputs": [],
   "source": []
  },
  {
   "cell_type": "code",
   "execution_count": null,
   "metadata": {},
   "outputs": [],
   "source": []
  },
  {
   "cell_type": "code",
   "execution_count": null,
   "metadata": {},
   "outputs": [],
   "source": []
  },
  {
   "cell_type": "code",
   "execution_count": null,
   "metadata": {},
   "outputs": [],
   "source": []
  },
  {
   "cell_type": "code",
   "execution_count": null,
   "metadata": {},
   "outputs": [],
   "source": []
  },
  {
   "cell_type": "code",
   "execution_count": null,
   "metadata": {},
   "outputs": [],
   "source": []
  },
  {
   "cell_type": "code",
   "execution_count": null,
   "metadata": {},
   "outputs": [],
   "source": []
  },
  {
   "cell_type": "code",
   "execution_count": null,
   "metadata": {},
   "outputs": [],
   "source": []
  },
  {
   "cell_type": "code",
   "execution_count": null,
   "metadata": {},
   "outputs": [],
   "source": []
  },
  {
   "cell_type": "code",
   "execution_count": null,
   "metadata": {},
   "outputs": [],
   "source": []
  }
 ],
 "metadata": {
  "kernelspec": {
   "display_name": "Python 3",
   "language": "python",
   "name": "python3"
  },
  "language_info": {
   "codemirror_mode": {
    "name": "ipython",
    "version": 3
   },
   "file_extension": ".py",
   "mimetype": "text/x-python",
   "name": "python",
   "nbconvert_exporter": "python",
   "pygments_lexer": "ipython3",
   "version": "3.8.5"
  }
 },
 "nbformat": 4,
 "nbformat_minor": 4
}
