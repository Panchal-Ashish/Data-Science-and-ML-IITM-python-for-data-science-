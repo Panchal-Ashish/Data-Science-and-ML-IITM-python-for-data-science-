{
 "cells": [
  {
   "cell_type": "code",
   "execution_count": 1,
   "metadata": {},
   "outputs": [],
   "source": [
    "import pandas as pd\n",
    "import os\n",
    "import numpy as np"
   ]
  },
  {
   "cell_type": "code",
   "execution_count": 2,
   "metadata": {},
   "outputs": [],
   "source": [
    "carsdata_csv = pd.read_csv(\"Toyota_corolla_modified.csv\", na_values = ['??','????'])"
   ]
  },
  {
   "cell_type": "code",
   "execution_count": 3,
   "metadata": {},
   "outputs": [],
   "source": [
    "carsdata_csv2 = carsdata_csv.copy()"
   ]
  },
  {
   "cell_type": "code",
   "execution_count": 4,
   "metadata": {},
   "outputs": [
    {
     "name": "stdout",
     "output_type": "stream",
     "text": [
      "      Price   Age       KM FuelType    HP  MetColor  Automatic    CC  Doors  \\\n",
      "0      6500  23.0  46986.0      NaN  90.0       1.0          0  2000      3   \n",
      "1     13750  23.0      NaN   Diesel  90.0       NaN          0  2000  three   \n",
      "2     13950  24.0  41711.0   Diesel   NaN       1.0          0  2000      3   \n",
      "3     14950   NaN  48000.0   Diesel  90.0       0.0          0  2000      3   \n",
      "4     13750  30.0  38500.0   Diesel  90.0       0.0          0  2000      3   \n",
      "...     ...   ...      ...      ...   ...       ...        ...   ...    ...   \n",
      "1431   7500  69.0  20544.0   Petrol  86.0       1.0          0  1300      3   \n",
      "1432  10845  72.0  19000.0   Petrol  86.0       0.0          0  1300      3   \n",
      "1433   8500  71.0  17016.0   Petrol  86.0       0.0          0  1300      3   \n",
      "1434   7250  70.0  16916.0   Petrol  86.0       1.0          0  1300      3   \n",
      "1435   6950  76.0      NaN   Petrol   NaN       0.0          0  1600      5   \n",
      "\n",
      "      Weight  \n",
      "0       1165  \n",
      "1       1165  \n",
      "2       1165  \n",
      "3       1165  \n",
      "4       1170  \n",
      "...      ...  \n",
      "1431    1025  \n",
      "1432    1015  \n",
      "1433    1015  \n",
      "1434    1015  \n",
      "1435    1114  \n",
      "\n",
      "[1436 rows x 10 columns]\n",
      "\n",
      "\n",
      "<class 'pandas.core.frame.DataFrame'>\n",
      "RangeIndex: 1436 entries, 0 to 1435\n",
      "Data columns (total 10 columns):\n",
      " #   Column     Non-Null Count  Dtype  \n",
      "---  ------     --------------  -----  \n",
      " 0   Price      1436 non-null   int64  \n",
      " 1   Age        1428 non-null   float64\n",
      " 2   KM         1431 non-null   float64\n",
      " 3   FuelType   1431 non-null   object \n",
      " 4   HP         1423 non-null   float64\n",
      " 5   MetColor   1431 non-null   float64\n",
      " 6   Automatic  1436 non-null   int64  \n",
      " 7   CC         1436 non-null   int64  \n",
      " 8   Doors      1436 non-null   object \n",
      " 9   Weight     1436 non-null   int64  \n",
      "dtypes: float64(4), int64(4), object(2)\n",
      "memory usage: 112.3+ KB\n",
      "None\n"
     ]
    }
   ],
   "source": [
    "print(carsdata_csv2)\n",
    "print(\"\\n\")\n",
    "print(carsdata_csv2.info())"
   ]
  },
  {
   "cell_type": "code",
   "execution_count": null,
   "metadata": {},
   "outputs": [],
   "source": []
  },
  {
   "cell_type": "markdown",
   "metadata": {},
   "source": [
    "## To create a frequency table\n",
    "\n",
    "#### pd.crosstab(index = Dataframe['col. label'], columns= 'count', dropna = True, normalize = )\n",
    "columns = column label / name under which you want the frequency to be shown\n",
    "\n",
    "dropna = True/False... to remove (do not count) na values in frequency ?\n",
    "\n",
    "normalize = True / False(default)... to get the proportion total to be 1"
   ]
  },
  {
   "cell_type": "code",
   "execution_count": 11,
   "metadata": {},
   "outputs": [
    {
     "name": "stdout",
     "output_type": "stream",
     "text": [
      "col_0     count\n",
      "FuelType       \n",
      "CNG          16\n",
      "Diesel      153\n",
      "Petrol     1262\n",
      "\n",
      "\n",
      "col_0      count\n",
      "Automatic       \n",
      "0           1355\n",
      "1             81\n"
     ]
    }
   ],
   "source": [
    "#print(carsdata_csv2[\"FuelType\"].value_counts())\n",
    "#print(\"\\n\")\n",
    "print(pd.crosstab(index=carsdata_csv2[\"FuelType\"], columns=\"count\",dropna=True, normalize = False))\n",
    "print(\"\\n\")\n",
    "print(pd.crosstab(index=carsdata_csv2[\"Automatic\"], columns=\"count\",dropna=True))\n",
    "# IN COLUMNS, EVEN THO WE HAVE WRITTEN MEAN... IT FIND YHE FREQUENCY OF UNIQUE VALUES AND STORES UNDER A COLUMN 'MEAN'"
   ]
  },
  {
   "cell_type": "code",
   "execution_count": null,
   "metadata": {},
   "outputs": [],
   "source": []
  },
  {
   "cell_type": "markdown",
   "metadata": {},
   "source": [
    "## Two - Way tables\n",
    "to check relationship between two categorical variables... here, relationship between fueltype and gearbox type\n",
    "\n",
    "### pandas.crosstab(index = Dataseries1, columns = Dataseries2, dropna = True, margins = True, normalize = )\n",
    "normalize = \n",
    "\n",
    "1. 'index'... then index proportion total = 1\n",
    "2. 'columns'... then column proportion total = 1\n",
    "3. True... proportion of full table = 1\n",
    "4. False..."
   ]
  },
  {
   "cell_type": "code",
   "execution_count": 20,
   "metadata": {},
   "outputs": [
    {
     "name": "stdout",
     "output_type": "stream",
     "text": [
      "FuelType        CNG    Diesel    Petrol\n",
      "Automatic                              \n",
      "0          0.010370  0.113333  0.876296\n",
      "1          0.024691  0.000000  0.975309\n",
      "\n",
      "\n",
      "FuelType     CNG  Diesel    Petrol\n",
      "Automatic                         \n",
      "0          0.875     1.0  0.937401\n",
      "1          0.125     0.0  0.062599\n",
      "\n",
      "\n",
      "FuelType        CNG    Diesel    Petrol       All\n",
      "Automatic                                        \n",
      "0          0.009783  0.106918  0.826695  0.943396\n",
      "1          0.001398  0.000000  0.055206  0.056604\n",
      "All        0.011181  0.106918  0.881901  1.000000\n"
     ]
    }
   ],
   "source": [
    "print(pd.crosstab(index = carsdata_csv2[\"Automatic\"],\n",
    "           columns = carsdata_csv2[\"FuelType\"],\n",
    "           dropna = True,\n",
    "           normalize = \"index\"))\n",
    "\n",
    "print(\"\\n\")\n",
    "print(pd.crosstab(index = carsdata_csv2[\"Automatic\"],\n",
    "           columns = carsdata_csv2[\"FuelType\"],\n",
    "           dropna = True,\n",
    "           normalize = \"columns\"))\n",
    "\n",
    "print(\"\\n\")\n",
    "print(pd.crosstab(index = carsdata_csv2[\"Automatic\"],\n",
    "           columns = carsdata_csv2[\"FuelType\"],\n",
    "           dropna = True,\n",
    "           margins = True,\n",
    "           normalize = True)) ## Joint probability ## joint marginal probability"
   ]
  },
  {
   "cell_type": "code",
   "execution_count": null,
   "metadata": {},
   "outputs": [],
   "source": []
  },
  {
   "cell_type": "markdown",
   "metadata": {},
   "source": [
    "## Two way tables - joint probability\n",
    "joint probability is the likelihood of two independent events hapenning at same time\n",
    "\n",
    "it is used to convert relational numbers inro ratios or proportions\n",
    "\n",
    "### pandas.crosstab(index = Dataseries1, columns = Dataseries2, normalize = True, dropna = True)\n",
    "note... sum of all probabilities (rows and columns included) ia always equal to 1"
   ]
  },
  {
   "cell_type": "code",
   "execution_count": 6,
   "metadata": {},
   "outputs": [
    {
     "name": "stdout",
     "output_type": "stream",
     "text": [
      "Automatic         0         1\n",
      "FuelType                     \n",
      "CNG        0.009783  0.001398\n",
      "Diesel     0.106918  0.000000\n",
      "Petrol     0.826695  0.055206\n",
      "\n",
      "\n",
      "FuelType        CNG    Diesel    Petrol\n",
      "Automatic                              \n",
      "0          0.009783  0.106918  0.826695\n",
      "1          0.001398  0.000000  0.055206\n"
     ]
    }
   ],
   "source": [
    "print(pd.crosstab(index = carsdata_csv2[\"FuelType\"],\n",
    "           columns = carsdata_csv2[\"Automatic\"],\n",
    "            normalize = True,\n",
    "            dropna = True))\n",
    "print(\"\\n\")\n",
    "print(pd.crosstab(index = carsdata_csv2[\"Automatic\"],\n",
    "           columns = carsdata_csv2[\"FuelType\"],\n",
    "            normalize = True,\n",
    "            dropna = True))"
   ]
  },
  {
   "cell_type": "code",
   "execution_count": null,
   "metadata": {},
   "outputs": [],
   "source": []
  },
  {
   "cell_type": "markdown",
   "metadata": {},
   "source": [
    "## Two way tables - marginal probability \n",
    "marginal probability is the probability of occurence of single event\n",
    "\n",
    "#### pandas.crosstab(index = Dataseries1, columns = Dataseries2, margins = True ,normalize = True, dropna = True)\n",
    "\n",
    "to get row and column sums of ratio or probabilities and these are the marginal probabilities values (individual probabilites of each row and column)\n",
    "\n",
    "note... sum of all probabilities (rows and columns included) ia always equal to 1"
   ]
  },
  {
   "cell_type": "code",
   "execution_count": 28,
   "metadata": {},
   "outputs": [
    {
     "name": "stdout",
     "output_type": "stream",
     "text": [
      "Automatic         0         1       All\n",
      "FuelType                               \n",
      "CNG        0.009783  0.001398  0.011181\n",
      "Diesel     0.106918  0.000000  0.106918\n",
      "Petrol     0.826695  0.055206  0.881901\n",
      "All        0.943396  0.056604  1.000000\n",
      "\n",
      "\n",
      "FuelType        CNG    Diesel    Petrol       All\n",
      "Automatic                                        \n",
      "0          0.009783  0.106918  0.826695  0.943396\n",
      "1          0.001398  0.000000  0.055206  0.056604\n",
      "All        0.011181  0.106918  0.881901  1.000000\n"
     ]
    }
   ],
   "source": [
    "print(pd.crosstab(index = carsdata_csv2[\"FuelType\"],\n",
    "           columns = carsdata_csv2[\"Automatic\"],\n",
    "            normalize = True,\n",
    "            margins = True,\n",
    "            dropna = True))\n",
    "print(\"\\n\")\n",
    "print(pd.crosstab(index = carsdata_csv2[\"Automatic\"],\n",
    "           columns = carsdata_csv2[\"FuelType\"],\n",
    "            normalize = True,\n",
    "            margins = True,\n",
    "            dropna = True))"
   ]
  },
  {
   "cell_type": "code",
   "execution_count": null,
   "metadata": {},
   "outputs": [],
   "source": []
  },
  {
   "cell_type": "markdown",
   "metadata": {},
   "source": [
    "## Two way tables - conditional probability\n",
    "probability of event (A) given that another event (B) has already occured\n",
    "\n"
   ]
  },
  {
   "cell_type": "markdown",
   "metadata": {},
   "source": [
    "#### pandas.crosstab(index = Dataseries1, columns = Dataseries2, margins = True ,normalize = 'index', dropna = True)\n",
    "\n",
    "given (index or dataseries1) we get conitional probability of (columns or dataseries2) occuring at the same time\n",
    "\n",
    "row totals are always 1"
   ]
  },
  {
   "cell_type": "code",
   "execution_count": 39,
   "metadata": {},
   "outputs": [
    {
     "name": "stdout",
     "output_type": "stream",
     "text": [
      "FuelType        CNG    Diesel    Petrol\n",
      "Automatic                              \n",
      "0          0.010370  0.113333  0.876296\n",
      "1          0.024691  0.000000  0.975309\n",
      "All        0.011181  0.106918  0.881901\n"
     ]
    }
   ],
   "source": [
    "\n",
    "print(pd.crosstab(index = carsdata_csv2[\"Automatic\"],\n",
    "           columns = carsdata_csv2[\"FuelType\"],\n",
    "            normalize = 'index',\n",
    "            margins = True,\n",
    "            dropna = True))"
   ]
  },
  {
   "cell_type": "raw",
   "metadata": {},
   "source": [
    "given that gearbox type is manual,\n",
    "    probability of fueltype CNG is 0.010370\n",
    "    probability of fueltype Diesel is 0.113333\n",
    "    probability of fueltype petrol is 0.876296\n",
    "    \n",
    "given that gearbox type is Automatic,\n",
    "    probability of fueltype CNG is 0.024691\n",
    "    probability of fueltype Diesel is 0.000000\n",
    "    probability of fueltype petrol is 0.975309"
   ]
  },
  {
   "cell_type": "code",
   "execution_count": null,
   "metadata": {},
   "outputs": [],
   "source": []
  },
  {
   "cell_type": "code",
   "execution_count": 40,
   "metadata": {
    "collapsed": true
   },
   "outputs": [
    {
     "name": "stdout",
     "output_type": "stream",
     "text": [
      "Automatic         0         1\n",
      "FuelType                     \n",
      "CNG        0.875000  0.125000\n",
      "Diesel     1.000000  0.000000\n",
      "Petrol     0.937401  0.062599\n",
      "All        0.943396  0.056604\n",
      "\n",
      "\n"
     ]
    }
   ],
   "source": [
    "print(pd.crosstab(index = carsdata_csv2[\"FuelType\"],\n",
    "           columns = carsdata_csv2[\"Automatic\"],\n",
    "            normalize = 'index',\n",
    "            margins = True,\n",
    "            dropna = True))\n",
    "print(\"\\n\")"
   ]
  },
  {
   "cell_type": "raw",
   "metadata": {},
   "source": [
    "given that fueltype is CNG,\n",
    "    probability of gearbox type manual is 0.875000\n",
    "    probability of gearbox type Automatic is 0.125000\n",
    "\n",
    "given that fueltype is Diesel,\n",
    "    probability of gearbox type manual is 1.000000\n",
    "    probability of gearbox type Automatic is 0.000000\n",
    "    \n",
    "given that fueltype is Petrol,\n",
    "    probability of gearbox type manual is 0.937401\n",
    "    probability of gearbox type Automatic is 0.062599"
   ]
  },
  {
   "cell_type": "code",
   "execution_count": null,
   "metadata": {},
   "outputs": [],
   "source": []
  },
  {
   "cell_type": "markdown",
   "metadata": {},
   "source": [
    "#### pandas.crosstab(index = Dataseries1, columns = Dataseries2, margins = True ,normalize = 'columns', dropna = True)\n",
    "\n",
    "given (columns or dataseries2) we get conditional probability of (index or dataseries1) occuring at the same time\n",
    "\n",
    "column totals are always 1"
   ]
  },
  {
   "cell_type": "code",
   "execution_count": 41,
   "metadata": {
    "collapsed": true
   },
   "outputs": [
    {
     "name": "stdout",
     "output_type": "stream",
     "text": [
      "FuelType     CNG  Diesel    Petrol       All\n",
      "Automatic                                   \n",
      "0          0.875     1.0  0.937401  0.943396\n",
      "1          0.125     0.0  0.062599  0.056604\n"
     ]
    }
   ],
   "source": [
    "print(pd.crosstab(index = carsdata_csv2[\"Automatic\"],\n",
    "           columns = carsdata_csv2[\"FuelType\"],\n",
    "            normalize = 'columns',\n",
    "            margins = True,\n",
    "            dropna = True))"
   ]
  },
  {
   "cell_type": "raw",
   "metadata": {},
   "source": [
    "given that fueltype is CNG,\n",
    "    probability of gearbox type manual is 0.875000\n",
    "    probability of gearbox type Automatic is 0.125000\n",
    "\n",
    "given that fueltype is Diesel,\n",
    "    probability of gearbox type manual is 1.000000\n",
    "    probability of gearbox type Automatic is 0.000000\n",
    "    \n",
    "given that fueltype is Petrol,\n",
    "    probability of gearbox type manual is 0.937401\n",
    "    probability of gearbox type Automatic is 0.062599"
   ]
  },
  {
   "cell_type": "code",
   "execution_count": null,
   "metadata": {},
   "outputs": [],
   "source": []
  },
  {
   "cell_type": "code",
   "execution_count": 42,
   "metadata": {
    "collapsed": true
   },
   "outputs": [
    {
     "name": "stdout",
     "output_type": "stream",
     "text": [
      "Automatic         0         1       All\n",
      "FuelType                               \n",
      "CNG        0.010370  0.024691  0.011181\n",
      "Diesel     0.113333  0.000000  0.106918\n",
      "Petrol     0.876296  0.975309  0.881901\n",
      "\n",
      "\n"
     ]
    }
   ],
   "source": [
    "print(pd.crosstab(index = carsdata_csv2[\"FuelType\"],\n",
    "           columns = carsdata_csv2[\"Automatic\"],\n",
    "            normalize = 'columns',\n",
    "            margins = True,\n",
    "            dropna = True))\n"
   ]
  },
  {
   "cell_type": "raw",
   "metadata": {},
   "source": [
    "given that gearbox type is manual,\n",
    "    probability of fueltype CNG is 0.010370\n",
    "    probability of fueltype Diesel is 0.113333\n",
    "    probability of fueltype petrol is 0.876296\n",
    "    \n",
    "given that gearbox type is Automatic,\n",
    "    probability of fueltype CNG is 0.024691\n",
    "    probability of fueltype Diesel is 0.000000\n",
    "    probability of fueltype petrol is 0.975309"
   ]
  },
  {
   "cell_type": "code",
   "execution_count": null,
   "metadata": {},
   "outputs": [],
   "source": []
  },
  {
   "cell_type": "code",
   "execution_count": null,
   "metadata": {},
   "outputs": [],
   "source": []
  },
  {
   "cell_type": "markdown",
   "metadata": {},
   "source": [
    "## Correlation\n",
    "always between -1 and +1\n",
    "\n",
    "strength of association or trend between two variables\n",
    "\n",
    "closer the value to extreme ends(+ or -1)... higher is the strength of the trend\n",
    "\n",
    "#### Dataframe.corr( self, method = 'pearson')\n",
    "to find pairwise karl pearsons correlation coeff. between (2/3/ all variables at a time) ... excluding NA values\n",
    "\n",
    "methods : \n",
    "1. 'pearson': standard karl pearson correlation coefficient\n",
    "2. 'kendall':  Kendall Tau correlation coefficient\n",
    "3. 'spearman' : Spearman rank correlation\n",
    "\n",
    "Automatically calaculates the correlation coeff. between all numerical variables"
   ]
  },
  {
   "cell_type": "code",
   "execution_count": 21,
   "metadata": {
    "collapsed": true
   },
   "outputs": [
    {
     "name": "stdout",
     "output_type": "stream",
     "text": [
      "              Price       Age        KM        HP  MetColor  Automatic  \\\n",
      "Price      1.000000 -0.873652 -0.569355  0.315314  0.109183   0.036719   \n",
      "Age       -0.873652  1.000000  0.506871 -0.154261 -0.111460   0.033608   \n",
      "KM        -0.569355  0.506871  1.000000 -0.332738 -0.082703  -0.082317   \n",
      "HP         0.315314 -0.154261 -0.332738  1.000000  0.057412   0.014825   \n",
      "MetColor   0.109183 -0.111460 -0.082703  0.057412  1.000000  -0.016924   \n",
      "Automatic  0.036719  0.033608 -0.082317  0.014825 -0.016924   1.000000   \n",
      "CC         0.161911 -0.132036  0.303255  0.052407  0.033833  -0.068382   \n",
      "Weight     0.578677 -0.468499 -0.028017  0.090801  0.057759   0.056602   \n",
      "\n",
      "                 CC    Weight  \n",
      "Price      0.161911  0.578677  \n",
      "Age       -0.132036 -0.468499  \n",
      "KM         0.303255 -0.028017  \n",
      "HP         0.052407  0.090801  \n",
      "MetColor   0.033833  0.057759  \n",
      "Automatic -0.068382  0.056602  \n",
      "CC         1.000000  0.651450  \n",
      "Weight     0.651450  1.000000  \n",
      "\n",
      "\n",
      "\n",
      "\n",
      "              Price       Age        KM        HP  MetColor  Automatic  \\\n",
      "Price      1.000000 -0.838243 -0.616549  0.237729  0.095294   0.046720   \n",
      "Age       -0.838243  1.000000  0.535438 -0.094438 -0.095735   0.045145   \n",
      "KM        -0.616549  0.535438  1.000000 -0.202511 -0.062309  -0.077480   \n",
      "HP         0.237729 -0.094438 -0.202511  1.000000  0.080269  -0.031503   \n",
      "MetColor   0.095294 -0.095735 -0.062309  0.080269  1.000000  -0.016924   \n",
      "Automatic  0.046720  0.045145 -0.077480 -0.031503 -0.016924   1.000000   \n",
      "CC         0.114945 -0.113269  0.185572  0.367984  0.045952  -0.057720   \n",
      "Weight     0.412132 -0.379987 -0.063029  0.170958  0.072345   0.089499   \n",
      "\n",
      "                 CC    Weight  \n",
      "Price      0.114945  0.412132  \n",
      "Age       -0.113269 -0.379987  \n",
      "KM         0.185572 -0.063029  \n",
      "HP         0.367984  0.170958  \n",
      "MetColor   0.045952  0.072345  \n",
      "Automatic -0.057720  0.089499  \n",
      "CC         1.000000  0.683772  \n",
      "Weight     0.683772  1.000000  \n"
     ]
    }
   ],
   "source": [
    "print(carsdata_csv2.corr(method= 'pearson'))\n",
    "print(\"\\n\")\n",
    "print(\"\\n\")\n",
    "print(carsdata_csv2.corr(method= 'spearman'))"
   ]
  },
  {
   "cell_type": "code",
   "execution_count": 22,
   "metadata": {
    "scrolled": true
   },
   "outputs": [
    {
     "name": "stdout",
     "output_type": "stream",
     "text": [
      "<bound method DataFrame.info of       Price   Age       KM    HP  MetColor  Automatic    CC  Weight\n",
      "0      6500  23.0  46986.0  90.0       1.0          0  2000    1165\n",
      "1     13750  23.0      NaN  90.0       NaN          0  2000    1165\n",
      "2     13950  24.0  41711.0   NaN       1.0          0  2000    1165\n",
      "3     14950   NaN  48000.0  90.0       0.0          0  2000    1165\n",
      "4     13750  30.0  38500.0  90.0       0.0          0  2000    1170\n",
      "...     ...   ...      ...   ...       ...        ...   ...     ...\n",
      "1431   7500  69.0  20544.0  86.0       1.0          0  1300    1025\n",
      "1432  10845  72.0  19000.0  86.0       0.0          0  1300    1015\n",
      "1433   8500  71.0  17016.0  86.0       0.0          0  1300    1015\n",
      "1434   7250  70.0  16916.0  86.0       1.0          0  1300    1015\n",
      "1435   6950  76.0      NaN   NaN       0.0          0  1600    1114\n",
      "\n",
      "[1436 rows x 8 columns]>\n"
     ]
    }
   ],
   "source": [
    "numerical_values = carsdata_csv2.select_dtypes(exclude = [object])\n",
    "print(numerical_values.info)"
   ]
  },
  {
   "cell_type": "code",
   "execution_count": 23,
   "metadata": {
    "collapsed": true
   },
   "outputs": [
    {
     "name": "stdout",
     "output_type": "stream",
     "text": [
      "              Price       Age        KM        HP  MetColor  Automatic  \\\n",
      "Price      1.000000 -0.873652 -0.569355  0.315314  0.109183   0.036719   \n",
      "Age       -0.873652  1.000000  0.506871 -0.154261 -0.111460   0.033608   \n",
      "KM        -0.569355  0.506871  1.000000 -0.332738 -0.082703  -0.082317   \n",
      "HP         0.315314 -0.154261 -0.332738  1.000000  0.057412   0.014825   \n",
      "MetColor   0.109183 -0.111460 -0.082703  0.057412  1.000000  -0.016924   \n",
      "Automatic  0.036719  0.033608 -0.082317  0.014825 -0.016924   1.000000   \n",
      "CC         0.161911 -0.132036  0.303255  0.052407  0.033833  -0.068382   \n",
      "Weight     0.578677 -0.468499 -0.028017  0.090801  0.057759   0.056602   \n",
      "\n",
      "                 CC    Weight  \n",
      "Price      0.161911  0.578677  \n",
      "Age       -0.132036 -0.468499  \n",
      "KM         0.303255 -0.028017  \n",
      "HP         0.052407  0.090801  \n",
      "MetColor   0.033833  0.057759  \n",
      "Automatic -0.068382  0.056602  \n",
      "CC         1.000000  0.651450  \n",
      "Weight     0.651450  1.000000  \n",
      "\n",
      "\n",
      "\n",
      "\n",
      "              Price       Age        KM        HP  MetColor  Automatic  \\\n",
      "Price      1.000000 -0.838243 -0.616549  0.237729  0.095294   0.046720   \n",
      "Age       -0.838243  1.000000  0.535438 -0.094438 -0.095735   0.045145   \n",
      "KM        -0.616549  0.535438  1.000000 -0.202511 -0.062309  -0.077480   \n",
      "HP         0.237729 -0.094438 -0.202511  1.000000  0.080269  -0.031503   \n",
      "MetColor   0.095294 -0.095735 -0.062309  0.080269  1.000000  -0.016924   \n",
      "Automatic  0.046720  0.045145 -0.077480 -0.031503 -0.016924   1.000000   \n",
      "CC         0.114945 -0.113269  0.185572  0.367984  0.045952  -0.057720   \n",
      "Weight     0.412132 -0.379987 -0.063029  0.170958  0.072345   0.089499   \n",
      "\n",
      "                 CC    Weight  \n",
      "Price      0.114945  0.412132  \n",
      "Age       -0.113269 -0.379987  \n",
      "KM         0.185572 -0.063029  \n",
      "HP         0.367984  0.170958  \n",
      "MetColor   0.045952  0.072345  \n",
      "Automatic -0.057720  0.089499  \n",
      "CC         1.000000  0.683772  \n",
      "Weight     0.683772  1.000000  \n"
     ]
    }
   ],
   "source": [
    "print(numerical_values.corr(method= 'pearson'))\n",
    "print(\"\\n\")\n",
    "print(\"\\n\")\n",
    "print(numerical_values.corr(method= 'spearman'))"
   ]
  },
  {
   "cell_type": "code",
   "execution_count": null,
   "metadata": {},
   "outputs": [],
   "source": []
  },
  {
   "cell_type": "code",
   "execution_count": null,
   "metadata": {},
   "outputs": [],
   "source": []
  },
  {
   "cell_type": "code",
   "execution_count": null,
   "metadata": {},
   "outputs": [],
   "source": []
  }
 ],
 "metadata": {
  "kernelspec": {
   "display_name": "Python 3",
   "language": "python",
   "name": "python3"
  },
  "language_info": {
   "codemirror_mode": {
    "name": "ipython",
    "version": 3
   },
   "file_extension": ".py",
   "mimetype": "text/x-python",
   "name": "python",
   "nbconvert_exporter": "python",
   "pygments_lexer": "ipython3",
   "version": "3.8.5"
  }
 },
 "nbformat": 4,
 "nbformat_minor": 4
}
