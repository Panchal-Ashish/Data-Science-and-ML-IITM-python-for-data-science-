{
 "cells": [
  {
   "cell_type": "code",
   "execution_count": 3,
   "metadata": {},
   "outputs": [],
   "source": [
    "import pandas as pd\n",
    "import numpy as np\n",
    "import matplotlib.pyplot as plt"
   ]
  },
  {
   "cell_type": "code",
   "execution_count": 4,
   "metadata": {},
   "outputs": [
    {
     "name": "stdout",
     "output_type": "stream",
     "text": [
      "<class 'pandas.core.frame.DataFrame'>\n",
      "RangeIndex: 1436 entries, 0 to 1435\n",
      "Data columns (total 10 columns):\n",
      " #   Column     Non-Null Count  Dtype  \n",
      "---  ------     --------------  -----  \n",
      " 0   Price      1436 non-null   int64  \n",
      " 1   Age        1428 non-null   float64\n",
      " 2   KM         1431 non-null   float64\n",
      " 3   FuelType   1431 non-null   object \n",
      " 4   HP         1423 non-null   float64\n",
      " 5   MetColor   1431 non-null   float64\n",
      " 6   Automatic  1436 non-null   int64  \n",
      " 7   CC         1436 non-null   int64  \n",
      " 8   Doors      1436 non-null   object \n",
      " 9   Weight     1436 non-null   int64  \n",
      "dtypes: float64(4), int64(4), object(2)\n",
      "memory usage: 112.3+ KB\n",
      "None\n"
     ]
    }
   ],
   "source": [
    "cars_data = pd.read_csv(\"Toyota_corolla_modified.csv\", na_values = ['??','????'])\n",
    "print(cars_data.info())"
   ]
  },
  {
   "cell_type": "code",
   "execution_count": null,
   "metadata": {},
   "outputs": [],
   "source": []
  },
  {
   "cell_type": "markdown",
   "metadata": {},
   "source": [
    "#### Dataframe.dropna(axis = (0 or 1), how = ('any' or 'all'), inplace = (True or false))\n",
    "to remove missing values for further operations\n",
    "\n",
    "#### axis (default: 0)\n",
    "0: Drop rows (or index) having missing values\n",
    "\n",
    "1: Drop columns having missing values\n",
    "#### how (default: 'any')\n",
    "'any': if any NA values present, drop that entire row or column\n",
    "\n",
    "'all': only if all values NA, drop that row or column\n",
    "#### inplace (default: False)\n",
    "True: do the operation and store inplace(same variable)\n",
    "\n",
    "False: if we have created a new variable or copy, then store over in that copy , not original"
   ]
  },
  {
   "cell_type": "code",
   "execution_count": 5,
   "metadata": {},
   "outputs": [
    {
     "name": "stdout",
     "output_type": "stream",
     "text": [
      "<class 'pandas.core.frame.DataFrame'>\n",
      "Int64Index: 1402 entries, 4 to 1434\n",
      "Data columns (total 10 columns):\n",
      " #   Column     Non-Null Count  Dtype  \n",
      "---  ------     --------------  -----  \n",
      " 0   Price      1402 non-null   int64  \n",
      " 1   Age        1402 non-null   float64\n",
      " 2   KM         1402 non-null   float64\n",
      " 3   FuelType   1402 non-null   object \n",
      " 4   HP         1402 non-null   float64\n",
      " 5   MetColor   1402 non-null   float64\n",
      " 6   Automatic  1402 non-null   int64  \n",
      " 7   CC         1402 non-null   int64  \n",
      " 8   Doors      1402 non-null   object \n",
      " 9   Weight     1402 non-null   int64  \n",
      "dtypes: float64(4), int64(4), object(2)\n",
      "memory usage: 120.5+ KB\n",
      "None\n"
     ]
    }
   ],
   "source": [
    "cars_data.dropna(axis =0, how =\"any\", inplace =True)\n",
    "print(cars_data.info())"
   ]
  },
  {
   "cell_type": "code",
   "execution_count": null,
   "metadata": {},
   "outputs": [],
   "source": []
  },
  {
   "cell_type": "markdown",
   "metadata": {},
   "source": [
    "## SCATTER PLOT\n",
    "#### plt.scatter(Dataseries1 (X coor.), Dataseries2 (Y coor), c= 'color')\n",
    "#### plt.title(\"Title of the scatter plot\")\n",
    "#### plt.xlabel('X axis label')\n",
    "#### plt.ylabel('Y axis label')\n",
    "#### plt.show() : to compile everything and show at once"
   ]
  },
  {
   "cell_type": "code",
   "execution_count": 9,
   "metadata": {},
   "outputs": [
    {
     "data": {
      "image/png": "[encoded data removed]",
      "text/plain": [
       "<Figure size 432x288 with 1 Axes>"
      ]
     },
     "metadata": {
      "needs_background": "light"
     },
     "output_type": "display_data"
    }
   ],
   "source": [
    "plt.scatter(cars_data['Age'],cars_data['Price'], color= 'orange')\n",
    "plt.title(\"Scatter plot of Price vs Age of Cars\")\n",
    "plt.xlabel(\"Age (in months)\")\n",
    "plt.ylabel(\"Price (in Euros)\")\n",
    "plt.show()"
   ]
  },
  {
   "cell_type": "code",
   "execution_count": null,
   "metadata": {},
   "outputs": [],
   "source": []
  },
  {
   "cell_type": "markdown",
   "metadata": {},
   "source": [
    "## Histogram "
   ]
  },
  {
   "cell_type": "markdown",
   "metadata": {},
   "source": [
    "#### plt.hist(Dataseries)\n",
    "This creates a histogram with default arguments\n",
    "#### plt.title(\"Title of the scatter plot\")\n",
    "#### plt.xlabel('X axis label')\n",
    "#### plt.ylabel('Y axis label')\n",
    "#### plt.show() : to compile everything and show at once"
   ]
  },
  {
   "cell_type": "code",
   "execution_count": 13,
   "metadata": {},
   "outputs": [
    {
     "data": {
      "image/png": "[encoded data removed]",
      "text/plain": [
       "<Figure size 432x288 with 1 Axes>"
      ]
     },
     "metadata": {
      "needs_background": "light"
     },
     "output_type": "display_data"
    }
   ],
   "source": [
    "#histogram with default arguments \n",
    "\n",
    "plt.hist(cars_data[\"KM\"], color='red', edgecolor = 'black', bins =10)\n",
    "plt.title(\"Histogram of kilometers travelled\")\n",
    "plt.xlabel(\"kilometers travelled\")\n",
    "plt.ylabel(\"frequency\")\n",
    "plt.show()"
   ]
  },
  {
   "cell_type": "markdown",
   "metadata": {},
   "source": [
    "by simply using the default arguments, the interpretation in very confusing...so we can specify certain arguments for interpretation purposes "
   ]
  },
  {
   "cell_type": "markdown",
   "metadata": {},
   "source": [
    "#### plt.hist(Dataseries, color = 'color', edgecolor = 'color', bins = int(number of ranges or bins or bars reqd))"
   ]
  },
  {
   "cell_type": "code",
   "execution_count": 7,
   "metadata": {},
   "outputs": [
    {
     "data": {
      "image/png": "[encoded data removed]",
      "text/plain": [
       "<Figure size 432x288 with 1 Axes>"
      ]
     },
     "metadata": {
      "needs_background": "light"
     },
     "output_type": "display_data"
    }
   ],
   "source": [
    "plt.hist(cars_data[\"KM\"],\n",
    "        color = \"cyan\",\n",
    "         edgecolor = 'black',\n",
    "         bins = 5)\n",
    "plt.title(\"Histogram of kilometers travelled\")\n",
    "plt.xlabel(\"kilometers travelled\")\n",
    "plt.ylabel(\"frequency\")\n",
    "plt.show()"
   ]
  },
  {
   "cell_type": "code",
   "execution_count": null,
   "metadata": {},
   "outputs": [],
   "source": []
  },
  {
   "cell_type": "markdown",
   "metadata": {},
   "source": [
    "### plt.bar ( index(X axis values), Heights(Y axis values), color = colors )\n",
    "\n",
    "#### X axis values\n",
    "can be a list\n",
    "#### Y axis values\n",
    "can be a list\n",
    "#### color =\n",
    "can be a list\n",
    "\n",
    "NOTE: number of X axis labels should match the number of Y axis heights provided...to avoid mismatch"
   ]
  },
  {
   "cell_type": "code",
   "execution_count": 65,
   "metadata": {},
   "outputs": [
    {
     "data": {
      "image/png": "[encoded data removed]",
      "text/plain": [
       "<Figure size 432x288 with 1 Axes>"
      ]
     },
     "metadata": {
      "needs_background": "light"
     },
     "output_type": "display_data"
    }
   ],
   "source": [
    "#counts = cars_data[\"FuelType\"].value_counts()\n",
    "#print(counts)\n",
    "counts = [1240,147,15]\n",
    "index = ['petrol','diesel','CNG']\n",
    "colors = ['red', 'yellow', 'blue']\n",
    "\n",
    "plt.bar(index,counts,color = colors)\n",
    "\n",
    "plt.title(\"Bar plot of fuel types\")\n",
    "plt.xlabel(\"Fuel Types\")\n",
    "plt.ylabel(\"Frequency\")\n",
    "plt.show()"
   ]
  },
  {
   "cell_type": "code",
   "execution_count": 34,
   "metadata": {},
   "outputs": [
    {
     "data": {
      "image/png": "[encoded data removed]",
      "text/plain": [
       "<Figure size 432x288 with 1 Axes>"
      ]
     },
     "metadata": {
      "needs_background": "light"
     },
     "output_type": "display_data"
    }
   ],
   "source": [
    "counts = [20,40,10,50]\n",
    "index = ['A','B','C',\"D\",]\n",
    "colors = ['red', 'yellow',\"blue\",\"green\"]\n",
    "\n",
    "plt.bar(index,counts,color = colors)\n",
    "\n",
    "plt.title(\"Bar plot of random types\")\n",
    "plt.xlabel(\"Random variables\")\n",
    "plt.ylabel(\"Frequency\")\n",
    "plt.show()"
   ]
  },
  {
   "cell_type": "code",
   "execution_count": 26,
   "metadata": {},
   "outputs": [
    {
     "data": {
      "text/html": [
       "<div>\n",
       "<style scoped>\n",
       "    .dataframe tbody tr th:only-of-type {\n",
       "        vertical-align: middle;\n",
       "    }\n",
       "\n",
       "    .dataframe tbody tr th {\n",
       "        vertical-align: top;\n",
       "    }\n",
       "\n",
       "    .dataframe thead th {\n",
       "        text-align: right;\n",
       "    }\n",
       "</style>\n",
       "<table border=\"1\" class=\"dataframe\">\n",
       "  <thead>\n",
       "    <tr style=\"text-align: right;\">\n",
       "      <th>col_0</th>\n",
       "      <th>count</th>\n",
       "    </tr>\n",
       "    <tr>\n",
       "      <th>FuelType</th>\n",
       "      <th></th>\n",
       "    </tr>\n",
       "  </thead>\n",
       "  <tbody>\n",
       "    <tr>\n",
       "      <th>CNG</th>\n",
       "      <td>15</td>\n",
       "    </tr>\n",
       "    <tr>\n",
       "      <th>Diesel</th>\n",
       "      <td>147</td>\n",
       "    </tr>\n",
       "    <tr>\n",
       "      <th>Petrol</th>\n",
       "      <td>1240</td>\n",
       "    </tr>\n",
       "  </tbody>\n",
       "</table>\n",
       "</div>"
      ],
      "text/plain": [
       "col_0     count\n",
       "FuelType       \n",
       "CNG          15\n",
       "Diesel      147\n",
       "Petrol     1240"
      ]
     },
     "execution_count": 26,
     "metadata": {},
     "output_type": "execute_result"
    }
   ],
   "source": [
    "pd.crosstab(index = cars_data[\"FuelType\"], columns = 'count', dropna = True)"
   ]
  },
  {
   "cell_type": "code",
   "execution_count": null,
   "metadata": {},
   "outputs": [],
   "source": []
  },
  {
   "cell_type": "code",
   "execution_count": null,
   "metadata": {},
   "outputs": [],
   "source": []
  },
  {
   "cell_type": "code",
   "execution_count": null,
   "metadata": {},
   "outputs": [],
   "source": []
  },
  {
   "cell_type": "code",
   "execution_count": null,
   "metadata": {},
   "outputs": [],
   "source": []
  },
  {
   "cell_type": "code",
   "execution_count": null,
   "metadata": {},
   "outputs": [],
   "source": []
  }
 ],
 "metadata": {
  "kernelspec": {
   "display_name": "Python 3",
   "language": "python",
   "name": "python3"
  },
  "language_info": {
   "codemirror_mode": {
    "name": "ipython",
    "version": 3
   },
   "file_extension": ".py",
   "mimetype": "text/x-python",
   "name": "python",
   "nbconvert_exporter": "python",
   "pygments_lexer": "ipython3",
   "version": "3.8.5"
  }
 },
 "nbformat": 4,
 "nbformat_minor": 4
}
