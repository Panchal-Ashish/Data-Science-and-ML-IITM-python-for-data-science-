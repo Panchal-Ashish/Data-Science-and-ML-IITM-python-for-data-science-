{
 "cells": [
  {
   "cell_type": "code",
   "execution_count": 1,
   "metadata": {},
   "outputs": [],
   "source": [
    "import pandas as pd\n"
   ]
  },
  {
   "cell_type": "markdown",
   "metadata": {},
   "source": [
    "## Reading CSV file "
   ]
  },
  {
   "cell_type": "code",
   "execution_count": 15,
   "metadata": {},
   "outputs": [
    {
     "name": "stdout",
     "output_type": "stream",
     "text": [
      "   sr. no  x coor y coor z coor\n",
      "0       1      10      5     20\n",
      "1       2      20    NaN    ###\n",
      "2       3      30     15     40\n",
      "3       4      40     20     60\n",
      "4       5      50     ??     80\n"
     ]
    }
   ],
   "source": [
    "data_csv = pd.read_csv(\"reading_data_testing.csv\")\n",
    "print(data_csv)"
   ]
  },
  {
   "cell_type": "markdown",
   "metadata": {},
   "source": [
    "### POINTS:\n",
    "1. blank cells are read as nan.\n",
    "   \n",
    "   here, ?? and ### are added intentionally and are not blank...\n",
    "   but if we want to read them as blank, then we can replace them\n",
    "   \n",
    "   All the junk values can be converted to missing values by passing them as a list to the parameter 'na_values'\n",
    "   \n",
    "   #### Syntax: na_values = [\"junk values\"]\n",
    "   Give a parameter while reading the csv file\n",
    "   \n",
    "   \n",
    "   \n",
    "2. in original csv file, ther is no such column called index (first column... specifying index... row    label)\n",
    "   but it has serial no.\n",
    "   So, it can create confusion\n",
    "   \n",
    "   so if we do not want too many columns giving same info, we can omit that index column and instead    'sr no' of each row can be its 'id'...\n",
    "   \n",
    "   #### Syntax :  index_col = (index of the column you want as id)\n",
    "   Give a parameter while reading the csv file\n",
    "   \n",
    "   it is shown below"
   ]
  },
  {
   "cell_type": "code",
   "execution_count": 2,
   "metadata": {},
   "outputs": [
    {
     "name": "stdout",
     "output_type": "stream",
     "text": [
      "        x coor  y coor  z coor\n",
      "sr. no                        \n",
      "1           10     5.0    20.0\n",
      "2           20     NaN     NaN\n",
      "3           30    15.0    40.0\n",
      "4           40    20.0    60.0\n",
      "5           50     NaN    80.0\n",
      "6           60    30.0   100.0\n",
      "7           70    35.0     NaN\n",
      "8           80    40.0   120.0\n",
      "9           90     NaN   140.0\n",
      "10         100    45.0   160.0\n"
     ]
    }
   ],
   "source": [
    "data_csv = pd.read_csv(\"reading_data_testing.csv\",index_col = 0, na_values = ['??',\"###\"])\n",
    "print(data_csv)"
   ]
  },
  {
   "cell_type": "code",
   "execution_count": 10,
   "metadata": {},
   "outputs": [
    {
     "data": {
      "text/plain": [
       "x coor    10.0\n",
       "y coor     5.0\n",
       "z coor    20.0\n",
       "Name: 1, dtype: float64"
      ]
     },
     "execution_count": 10,
     "metadata": {},
     "output_type": "execute_result"
    }
   ],
   "source": [
    "data_csv.loc[1]"
   ]
  },
  {
   "cell_type": "markdown",
   "metadata": {},
   "source": [
    "## Reading Excel file \n",
    "\n",
    "### parameter: sheet_name = \"your sheet name\"\n",
    "when using excel file with single file, it is optional \n",
    "but when using excel file with multiple excel sheets, then it needs to be specified to access the particular excel sheet"
   ]
  },
  {
   "cell_type": "code",
   "execution_count": 27,
   "metadata": {},
   "outputs": [
    {
     "name": "stdout",
     "output_type": "stream",
     "text": [
      "   sr. no  x coor y coor z coor\n",
      "0       1      10      5     20\n",
      "1       2      20    NaN    ###\n",
      "2       3      30     15     40\n",
      "3       4      40     20     60\n",
      "4       5      50     ??     80\n"
     ]
    }
   ],
   "source": [
    "data_excel = pd.read_excel(\"reading_data_testing.xlsx\")\n",
    "print(data_excel)"
   ]
  },
  {
   "cell_type": "code",
   "execution_count": 32,
   "metadata": {},
   "outputs": [
    {
     "name": "stdout",
     "output_type": "stream",
     "text": [
      "        x coor  y coor  z coor\n",
      "sr. no                        \n",
      "1           10     5.0    20.0\n",
      "2           20     NaN     NaN\n",
      "3           30    15.0    40.0\n",
      "4           40    20.0    60.0\n",
      "5           50     NaN    80.0\n"
     ]
    }
   ],
   "source": [
    "data_excel = pd.read_excel(\"reading_data_testing.xlsx\",sheet_name = \"reading_data_testing\" ,index_col = 0, na_values = ['??',\"###\"])\n",
    "print(data_excel)"
   ]
  },
  {
   "cell_type": "markdown",
   "metadata": {},
   "source": [
    "### Similar to csv, here also the same attributes like\n",
    "\n",
    "index_col , na_values \n",
    "\n",
    "etc can also be used here"
   ]
  },
  {
   "cell_type": "code",
   "execution_count": null,
   "metadata": {},
   "outputs": [],
   "source": []
  },
  {
   "cell_type": "markdown",
   "metadata": {},
   "source": [
    "## Reading text file"
   ]
  },
  {
   "cell_type": "code",
   "execution_count": 12,
   "metadata": {},
   "outputs": [
    {
     "name": "stdout",
     "output_type": "stream",
     "text": [
      "   sr. no  x coor  y coor  z coor\n",
      "0       1      10     5.0    20.0\n",
      "1       2      20     NaN     NaN\n",
      "2       3      30    15.0    40.0\n",
      "3       4      40    20.0    60.0\n",
      "4       5      50     NaN    80.0\n"
     ]
    }
   ],
   "source": [
    "data_txt = pd.read_table(\"reading_data_testing.txt\", na_values = ['??',\"###\"])\n",
    "print(data_txt)"
   ]
  },
  {
   "cell_type": "markdown",
   "metadata": {},
   "source": [
    "Delimiter is optional"
   ]
  },
  {
   "cell_type": "code",
   "execution_count": null,
   "metadata": {},
   "outputs": [],
   "source": []
  },
  {
   "cell_type": "code",
   "execution_count": null,
   "metadata": {},
   "outputs": [],
   "source": []
  },
  {
   "cell_type": "code",
   "execution_count": null,
   "metadata": {},
   "outputs": [],
   "source": []
  },
  {
   "cell_type": "code",
   "execution_count": null,
   "metadata": {},
   "outputs": [],
   "source": []
  }
 ],
 "metadata": {
  "kernelspec": {
   "display_name": "Python 3",
   "language": "python",
   "name": "python3"
  },
  "language_info": {
   "codemirror_mode": {
    "name": "ipython",
    "version": 3
   },
   "file_extension": ".py",
   "mimetype": "text/x-python",
   "name": "python",
   "nbconvert_exporter": "python",
   "pygments_lexer": "ipython3",
   "version": "3.8.5"
  }
 },
 "nbformat": 4,
 "nbformat_minor": 4
}
