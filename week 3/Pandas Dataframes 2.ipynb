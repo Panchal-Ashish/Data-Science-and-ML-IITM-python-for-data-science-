{
 "cells": [
  {
   "cell_type": "code",
   "execution_count": 1,
   "metadata": {},
   "outputs": [],
   "source": [
    "import pandas as pd\n",
    "import numpy as np"
   ]
  },
  {
   "cell_type": "code",
   "execution_count": 5,
   "metadata": {},
   "outputs": [
    {
     "name": "stdout",
     "output_type": "stream",
     "text": [
      "      mpg  cylinders  displacement horsepower  weight  acceleration  \\\n",
      "0    18.0          8         307.0        130    3504          12.0   \n",
      "1    15.0          8         350.0        165    3693          11.5   \n",
      "2    18.0          8         318.0        150    3436          11.0   \n",
      "3    16.0          8         304.0        150    3433          12.0   \n",
      "4    17.0          8         302.0        140    3449          10.5   \n",
      "..    ...        ...           ...        ...     ...           ...   \n",
      "393  27.0          4         140.0         86    2790          15.6   \n",
      "394  44.0          4          97.0         52    2130          24.6   \n",
      "395  32.0          4         135.0         84    2295          11.6   \n",
      "396  28.0          4         120.0         79    2625          18.6   \n",
      "397  31.0          4         119.0         82    2720          19.4   \n",
      "\n",
      "     model year  origin                   car name  \n",
      "0            70       1  chevrolet chevelle malibu  \n",
      "1            70       1          buick skylark 320  \n",
      "2            70       1         plymouth satellite  \n",
      "3            70       1              amc rebel sst  \n",
      "4            70       1                ford torino  \n",
      "..          ...     ...                        ...  \n",
      "393          82       1            ford mustang gl  \n",
      "394          82       2                  vw pickup  \n",
      "395          82       1              dodge rampage  \n",
      "396          82       1                ford ranger  \n",
      "397          82       1                 chevy s-10  \n",
      "\n",
      "[398 rows x 9 columns]\n"
     ]
    }
   ],
   "source": [
    "carsdata_csv = pd.read_csv(\"auto-mpg.csv\")\n",
    "print(carsdata_csv)"
   ]
  },
  {
   "cell_type": "code",
   "execution_count": null,
   "metadata": {},
   "outputs": [],
   "source": []
  },
  {
   "cell_type": "code",
   "execution_count": 60,
   "metadata": {},
   "outputs": [
    {
     "name": "stdout",
     "output_type": "stream",
     "text": [
      "mpg             float64\n",
      "cylinders         int64\n",
      "displacement    float64\n",
      "horsepower       object\n",
      "weight            int64\n",
      "acceleration    float64\n",
      "model year        int64\n",
      "origin            int64\n",
      "car name         object\n",
      "dtype: object\n"
     ]
    }
   ],
   "source": [
    "# CHECKING DATATYPES OF EACH COLUMN\n",
    "print(carsdata_csv.dtypes)"
   ]
  },
  {
   "cell_type": "code",
   "execution_count": 4,
   "metadata": {},
   "outputs": [
    {
     "name": "stdout",
     "output_type": "stream",
     "text": [
      "<class 'pandas.core.frame.DataFrame'>\n",
      "RangeIndex: 398 entries, 0 to 397\n",
      "Data columns (total 9 columns):\n",
      " #   Column        Non-Null Count  Dtype  \n",
      "---  ------        --------------  -----  \n",
      " 0   mpg           398 non-null    float64\n",
      " 1   cylinders     398 non-null    int64  \n",
      " 2   displacement  398 non-null    float64\n",
      " 3   horsepower    398 non-null    object \n",
      " 4   weight        398 non-null    int64  \n",
      " 5   acceleration  398 non-null    float64\n",
      " 6   model year    398 non-null    int64  \n",
      " 7   origin        398 non-null    int64  \n",
      " 8   car name      398 non-null    object \n",
      "dtypes: float64(3), int64(4), object(2)\n",
      "memory usage: 28.1+ KB\n",
      "None\n"
     ]
    }
   ],
   "source": [
    "print(carsdata_csv.info())"
   ]
  },
  {
   "cell_type": "code",
   "execution_count": 14,
   "metadata": {},
   "outputs": [
    {
     "name": "stdout",
     "output_type": "stream",
     "text": [
      "              mpg   cylinders  displacement       weight  acceleration  \\\n",
      "count  398.000000  398.000000    398.000000   398.000000    398.000000   \n",
      "mean    23.514573    5.454774    193.425879  2970.424623     15.568090   \n",
      "std      7.815984    1.701004    104.269838   846.841774      2.757689   \n",
      "min      9.000000    3.000000     68.000000  1613.000000      8.000000   \n",
      "25%     17.500000    4.000000    104.250000  2223.750000     13.825000   \n",
      "50%     23.000000    4.000000    148.500000  2803.500000     15.500000   \n",
      "75%     29.000000    8.000000    262.000000  3608.000000     17.175000   \n",
      "max     46.600000    8.000000    455.000000  5140.000000     24.800000   \n",
      "\n",
      "       model year      origin  \n",
      "count  398.000000  398.000000  \n",
      "mean    76.010050    1.572864  \n",
      "std      3.697627    0.802055  \n",
      "min     70.000000    1.000000  \n",
      "25%     73.000000    1.000000  \n",
      "50%     76.000000    1.000000  \n",
      "75%     79.000000    2.000000  \n",
      "max     82.000000    3.000000  \n"
     ]
    }
   ],
   "source": [
    "print(carsdata_csv.describe())"
   ]
  },
  {
   "cell_type": "code",
   "execution_count": 61,
   "metadata": {},
   "outputs": [
    {
     "name": "stdout",
     "output_type": "stream",
     "text": [
      "int64      4\n",
      "float64    3\n",
      "object     2\n",
      "dtype: int64\n"
     ]
    }
   ],
   "source": [
    "# TO GET COUNT OF UNIQUE DATA TYPES IN DATAFRAME\n",
    "print(carsdata_csv.dtypes.value_counts())"
   ]
  },
  {
   "cell_type": "code",
   "execution_count": null,
   "metadata": {},
   "outputs": [],
   "source": []
  },
  {
   "cell_type": "markdown",
   "metadata": {},
   "source": [
    "#\n",
    "Incase we want to work only with a particular datatype, say for example, int64... \n",
    "\n",
    "#### Dataframe.select_dtypes(include =  [ ], exclude = [ ] )\n",
    "\n",
    "if you want more than 1 dtype to be included or excluded, pass them in a list.. separated by a comma\n",
    "\n",
    "it returns a subset of the columns from dataframe based on column dtypes"
   ]
  },
  {
   "cell_type": "code",
   "execution_count": 13,
   "metadata": {},
   "outputs": [
    {
     "name": "stdout",
     "output_type": "stream",
     "text": [
      "      mpg  displacement horsepower  acceleration                   car name\n",
      "0    18.0         307.0        130          12.0  chevrolet chevelle malibu\n",
      "1    15.0         350.0        165          11.5          buick skylark 320\n",
      "2    18.0         318.0        150          11.0         plymouth satellite\n",
      "3    16.0         304.0        150          12.0              amc rebel sst\n",
      "4    17.0         302.0        140          10.5                ford torino\n",
      "..    ...           ...        ...           ...                        ...\n",
      "393  27.0         140.0         86          15.6            ford mustang gl\n",
      "394  44.0          97.0         52          24.6                  vw pickup\n",
      "395  32.0         135.0         84          11.6              dodge rampage\n",
      "396  28.0         120.0         79          18.6                ford ranger\n",
      "397  31.0         119.0         82          19.4                 chevy s-10\n",
      "\n",
      "[398 rows x 5 columns]\n",
      "\n",
      "\n",
      "      mpg  cylinders  displacement  weight  acceleration  model year  origin\n",
      "0    18.0          8         307.0    3504          12.0          70       1\n",
      "1    15.0          8         350.0    3693          11.5          70       1\n",
      "2    18.0          8         318.0    3436          11.0          70       1\n",
      "3    16.0          8         304.0    3433          12.0          70       1\n",
      "4    17.0          8         302.0    3449          10.5          70       1\n",
      "..    ...        ...           ...     ...           ...         ...     ...\n",
      "393  27.0          4         140.0    2790          15.6          82       1\n",
      "394  44.0          4          97.0    2130          24.6          82       2\n",
      "395  32.0          4         135.0    2295          11.6          82       1\n",
      "396  28.0          4         120.0    2625          18.6          82       1\n",
      "397  31.0          4         119.0    2720          19.4          82       1\n",
      "\n",
      "[398 rows x 7 columns]\n"
     ]
    }
   ],
   "source": [
    "print(carsdata_csv.select_dtypes(include= [object,float]))\n",
    "print(\"\\n\")\n",
    "print(carsdata_csv.select_dtypes(exclude= [object]))\n"
   ]
  },
  {
   "cell_type": "code",
   "execution_count": null,
   "metadata": {},
   "outputs": [],
   "source": []
  },
  {
   "cell_type": "markdown",
   "metadata": {},
   "source": [
    "### Dataframe.info()\n",
    "\n",
    "returns a concise summary of a datframe. It includes...\n",
    "\n",
    "1. datatype of index... i.e. row labels\n",
    "2. datatype of columns\n",
    "3. count of non - null values\n",
    "4. memory usage"
   ]
  },
  {
   "cell_type": "code",
   "execution_count": 63,
   "metadata": {},
   "outputs": [
    {
     "name": "stdout",
     "output_type": "stream",
     "text": [
      "<class 'pandas.core.frame.DataFrame'>\n",
      "RangeIndex: 398 entries, 0 to 397\n",
      "Data columns (total 9 columns):\n",
      " #   Column        Non-Null Count  Dtype  \n",
      "---  ------        --------------  -----  \n",
      " 0   mpg           398 non-null    float64\n",
      " 1   cylinders     398 non-null    int64  \n",
      " 2   displacement  398 non-null    float64\n",
      " 3   horsepower    398 non-null    object \n",
      " 4   weight        398 non-null    int64  \n",
      " 5   acceleration  398 non-null    float64\n",
      " 6   model year    398 non-null    int64  \n",
      " 7   origin        398 non-null    int64  \n",
      " 8   car name      398 non-null    object \n",
      "dtypes: float64(3), int64(4), object(2)\n",
      "memory usage: 28.1+ KB\n",
      "None\n"
     ]
    }
   ],
   "source": [
    "print(carsdata_csv.info())"
   ]
  },
  {
   "cell_type": "code",
   "execution_count": null,
   "metadata": {},
   "outputs": [],
   "source": []
  },
  {
   "cell_type": "markdown",
   "metadata": {},
   "source": [
    "### to get unique elements of a column\n",
    "\n",
    "#### numpy.unique(array)\n",
    "\n",
    "note.... numpy and not pandas"
   ]
  },
  {
   "cell_type": "code",
   "execution_count": 34,
   "metadata": {},
   "outputs": [
    {
     "name": "stdout",
     "output_type": "stream",
     "text": [
      "['100' '102' '103' '105' '107' '108' '110' '112' '113' '115' '116' '120'\n",
      " '122' '125' '129' '130' '132' '133' '135' '137' '138' '139' '140' '142'\n",
      " '145' '148' '149' '150' '152' '153' '155' '158' '160' '165' '167' '170'\n",
      " '175' '180' '190' '193' '198' '200' '208' '210' '215' '220' '225' '230'\n",
      " '46' '48' '49' '52' '53' '54' '58' '60' '61' '62' '63' '64' '65' '66'\n",
      " '67' '68' '69' '70' '71' '72' '74' '75' '76' '77' '78' '79' '80' '81'\n",
      " '82' '83' '84' '85' '86' '87' '88' '89' '90' '91' '92' '93' '94' '95'\n",
      " '96' '97' '98' '?']\n",
      "\n",
      "\n",
      "[1 2 3]\n",
      "\n",
      "\n",
      "[1 3 2]\n"
     ]
    }
   ],
   "source": [
    "print(np.unique(carsdata_csv[\"horsepower\"]))\n",
    "print(\"\\n\")\n",
    "print(np.unique(carsdata_csv[\"origin\"]))\n",
    "print(\"\\n\")\n",
    "print(carsdata_csv[\"origin\"].unique())"
   ]
  },
  {
   "cell_type": "code",
   "execution_count": null,
   "metadata": {},
   "outputs": [],
   "source": []
  },
  {
   "cell_type": "code",
   "execution_count": null,
   "metadata": {},
   "outputs": [],
   "source": []
  },
  {
   "cell_type": "code",
   "execution_count": null,
   "metadata": {},
   "outputs": [],
   "source": []
  },
  {
   "cell_type": "code",
   "execution_count": null,
   "metadata": {},
   "outputs": [],
   "source": []
  }
 ],
 "metadata": {
  "kernelspec": {
   "display_name": "Python 3",
   "language": "python",
   "name": "python3"
  },
  "language_info": {
   "codemirror_mode": {
    "name": "ipython",
    "version": 3
   },
   "file_extension": ".py",
   "mimetype": "text/x-python",
   "name": "python",
   "nbconvert_exporter": "python",
   "pygments_lexer": "ipython3",
   "version": "3.8.5"
  }
 },
 "nbformat": 4,
 "nbformat_minor": 4
}
