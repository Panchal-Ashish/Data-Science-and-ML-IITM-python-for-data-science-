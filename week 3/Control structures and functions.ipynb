{
 "cells": [
  {
   "cell_type": "markdown",
   "metadata": {},
   "source": [
    "## this is a continuation of previous lecture "
   ]
  },
  {
   "cell_type": "code",
   "execution_count": 46,
   "metadata": {},
   "outputs": [],
   "source": [
    "import pandas as pd\n",
    "import numpy as np"
   ]
  },
  {
   "cell_type": "code",
   "execution_count": 47,
   "metadata": {},
   "outputs": [
    {
     "name": "stdout",
     "output_type": "stream",
     "text": [
      "      Price   Age       KM FuelType    HP  MetColor  Automatic    CC  Doors  \\\n",
      "0      6500  23.0  46986.0      NaN  90.0       1.0          0  2000      3   \n",
      "1     13750  23.0      NaN   Diesel  90.0       NaN          0  2000  three   \n",
      "2     13950  24.0  41711.0   Diesel   NaN       1.0          0  2000      3   \n",
      "3     14950   NaN  48000.0   Diesel  90.0       0.0          0  2000      3   \n",
      "4     13750  30.0  38500.0   Diesel  90.0       0.0          0  2000      3   \n",
      "...     ...   ...      ...      ...   ...       ...        ...   ...    ...   \n",
      "1431   7500  69.0  20544.0   Petrol  86.0       1.0          0  1300      3   \n",
      "1432  10845  72.0  19000.0   Petrol  86.0       0.0          0  1300      3   \n",
      "1433   8500  71.0  17016.0   Petrol  86.0       0.0          0  1300      3   \n",
      "1434   7250  70.0  16916.0   Petrol  86.0       1.0          0  1300      3   \n",
      "1435   6950  76.0      NaN   Petrol   NaN       0.0          0  1600      5   \n",
      "\n",
      "      Weight  \n",
      "0       1165  \n",
      "1       1165  \n",
      "2       1165  \n",
      "3       1165  \n",
      "4       1170  \n",
      "...      ...  \n",
      "1431    1025  \n",
      "1432    1015  \n",
      "1433    1015  \n",
      "1434    1015  \n",
      "1435    1114  \n",
      "\n",
      "[1436 rows x 10 columns]\n"
     ]
    }
   ],
   "source": [
    "carsdata_csv = pd.read_csv(\"Toyota_corolla_modified.csv\", na_values = ['??','????'])\n",
    "print(carsdata_csv)"
   ]
  },
  {
   "cell_type": "code",
   "execution_count": 48,
   "metadata": {},
   "outputs": [],
   "source": [
    "carsdata_csv['Doors'].replace('three',3,inplace = True)\n",
    "carsdata_csv['Doors'].replace('four',4,inplace = True)\n",
    "carsdata_csv['Doors'].replace('five',5,inplace = True)\n",
    "\n",
    "carsdata_csv[\"Doors\"] = carsdata_csv[\"Doors\"].astype('int64')\n",
    "carsdata_csv[\"Automatic\"] = carsdata_csv[\"Automatic\"].astype(object)\n",
    "carsdata_csv[\"KM\"] = carsdata_csv[\"KM\"].astype(float)\n",
    "carsdata_csv[\"MetColor\"] = carsdata_csv[\"MetColor\"].astype(object)"
   ]
  },
  {
   "cell_type": "code",
   "execution_count": 49,
   "metadata": {},
   "outputs": [
    {
     "name": "stdout",
     "output_type": "stream",
     "text": [
      "<class 'pandas.core.frame.DataFrame'>\n",
      "RangeIndex: 1436 entries, 0 to 1435\n",
      "Data columns (total 10 columns):\n",
      " #   Column     Non-Null Count  Dtype  \n",
      "---  ------     --------------  -----  \n",
      " 0   Price      1436 non-null   int64  \n",
      " 1   Age        1428 non-null   float64\n",
      " 2   KM         1431 non-null   float64\n",
      " 3   FuelType   1431 non-null   object \n",
      " 4   HP         1423 non-null   float64\n",
      " 5   MetColor   1431 non-null   object \n",
      " 6   Automatic  1436 non-null   object \n",
      " 7   CC         1436 non-null   int64  \n",
      " 8   Doors      1436 non-null   int64  \n",
      " 9   Weight     1436 non-null   int64  \n",
      "dtypes: float64(3), int64(4), object(3)\n",
      "memory usage: 112.3+ KB\n",
      "None\n"
     ]
    }
   ],
   "source": [
    "print(carsdata_csv.info())"
   ]
  },
  {
   "cell_type": "markdown",
   "metadata": {},
   "source": [
    "### above this is from previous lec,\n",
    "### below this is of current lec\n"
   ]
  },
  {
   "cell_type": "code",
   "execution_count": 50,
   "metadata": {},
   "outputs": [],
   "source": [
    "#carsdata_csv = carsdata_csv.copy(deep = False)"
   ]
  },
  {
   "cell_type": "markdown",
   "metadata": {},
   "source": [
    "### 1. Creating 3 bins from 'Price' and storing in a new column 'Price_class'\n",
    "\n",
    "#### Dataframe.insert( col. index, 'col. label', staring value)\n",
    "\n",
    "creates a new column at specified index"
   ]
  },
  {
   "cell_type": "code",
   "execution_count": 51,
   "metadata": {},
   "outputs": [],
   "source": [
    "# CREATING A NEW COLUMN 'PRICE_CLASS' WITH BLANK VALUES\n",
    "carsdata_csv.insert(10, \"Price_class\",value = \"\")\n"
   ]
  },
  {
   "cell_type": "code",
   "execution_count": 52,
   "metadata": {},
   "outputs": [
    {
     "name": "stdout",
     "output_type": "stream",
     "text": [
      "<bound method DataFrame.info of       Price   Age       KM FuelType    HP MetColor Automatic    CC  Doors  \\\n",
      "0      6500  23.0  46986.0      NaN  90.0        1         0  2000      3   \n",
      "1     13750  23.0      NaN   Diesel  90.0      NaN         0  2000      3   \n",
      "2     13950  24.0  41711.0   Diesel   NaN        1         0  2000      3   \n",
      "3     14950   NaN  48000.0   Diesel  90.0        0         0  2000      3   \n",
      "4     13750  30.0  38500.0   Diesel  90.0        0         0  2000      3   \n",
      "...     ...   ...      ...      ...   ...      ...       ...   ...    ...   \n",
      "1431   7500  69.0  20544.0   Petrol  86.0        1         0  1300      3   \n",
      "1432  10845  72.0  19000.0   Petrol  86.0        0         0  1300      3   \n",
      "1433   8500  71.0  17016.0   Petrol  86.0        0         0  1300      3   \n",
      "1434   7250  70.0  16916.0   Petrol  86.0        1         0  1300      3   \n",
      "1435   6950  76.0      NaN   Petrol   NaN        0         0  1600      5   \n",
      "\n",
      "      Weight Price_class  \n",
      "0       1165              \n",
      "1       1165              \n",
      "2       1165              \n",
      "3       1165              \n",
      "4       1170              \n",
      "...      ...         ...  \n",
      "1431    1025              \n",
      "1432    1015              \n",
      "1433    1015              \n",
      "1434    1015              \n",
      "1435    1114              \n",
      "\n",
      "[1436 rows x 11 columns]>\n"
     ]
    }
   ],
   "source": [
    "print(carsdata_csv.info)"
   ]
  },
  {
   "cell_type": "code",
   "execution_count": 53,
   "metadata": {},
   "outputs": [
    {
     "name": "stderr",
     "output_type": "stream",
     "text": [
      "<ipython-input-53-260bd97f6b14>:3: SettingWithCopyWarning: \n",
      "A value is trying to be set on a copy of a slice from a DataFrame\n",
      "\n",
      "See the caveats in the documentation: https://pandas.pydata.org/pandas-docs/stable/user_guide/indexing.html#returning-a-view-versus-a-copy\n",
      "  carsdata_csv[\"Price_class\"][i] = \"Low\"\n",
      "<ipython-input-53-260bd97f6b14>:5: SettingWithCopyWarning: \n",
      "A value is trying to be set on a copy of a slice from a DataFrame\n",
      "\n",
      "See the caveats in the documentation: https://pandas.pydata.org/pandas-docs/stable/user_guide/indexing.html#returning-a-view-versus-a-copy\n",
      "  carsdata_csv[\"Price_class\"][i] = \"High\"\n",
      "<ipython-input-53-260bd97f6b14>:7: SettingWithCopyWarning: \n",
      "A value is trying to be set on a copy of a slice from a DataFrame\n",
      "\n",
      "See the caveats in the documentation: https://pandas.pydata.org/pandas-docs/stable/user_guide/indexing.html#returning-a-view-versus-a-copy\n",
      "  carsdata_csv[\"Price_class\"][i] = \"Medium\"\n"
     ]
    }
   ],
   "source": [
    "\n",
    "for i in range(0,len(carsdata_csv),1):\n",
    "    if carsdata_csv.loc[i,\"Price\" ] < 8450:\n",
    "        carsdata_csv[\"Price_class\"][i] = \"Low\"\n",
    "    elif carsdata_csv.at[i,\"Price\"] > 11950:\n",
    "        carsdata_csv[\"Price_class\"][i] = \"High\"\n",
    "    else:\n",
    "        carsdata_csv[\"Price_class\"][i] = \"Medium\""
   ]
  },
  {
   "cell_type": "code",
   "execution_count": 54,
   "metadata": {},
   "outputs": [
    {
     "name": "stdout",
     "output_type": "stream",
     "text": [
      "<bound method DataFrame.info of       Price   Age       KM FuelType    HP MetColor Automatic    CC  Doors  \\\n",
      "0      6500  23.0  46986.0      NaN  90.0        1         0  2000      3   \n",
      "1     13750  23.0      NaN   Diesel  90.0      NaN         0  2000      3   \n",
      "2     13950  24.0  41711.0   Diesel   NaN        1         0  2000      3   \n",
      "3     14950   NaN  48000.0   Diesel  90.0        0         0  2000      3   \n",
      "4     13750  30.0  38500.0   Diesel  90.0        0         0  2000      3   \n",
      "...     ...   ...      ...      ...   ...      ...       ...   ...    ...   \n",
      "1431   7500  69.0  20544.0   Petrol  86.0        1         0  1300      3   \n",
      "1432  10845  72.0  19000.0   Petrol  86.0        0         0  1300      3   \n",
      "1433   8500  71.0  17016.0   Petrol  86.0        0         0  1300      3   \n",
      "1434   7250  70.0  16916.0   Petrol  86.0        1         0  1300      3   \n",
      "1435   6950  76.0      NaN   Petrol   NaN        0         0  1600      5   \n",
      "\n",
      "      Weight Price_class  \n",
      "0       1165         Low  \n",
      "1       1165        High  \n",
      "2       1165        High  \n",
      "3       1165        High  \n",
      "4       1170        High  \n",
      "...      ...         ...  \n",
      "1431    1025         Low  \n",
      "1432    1015      Medium  \n",
      "1433    1015      Medium  \n",
      "1434    1015         Low  \n",
      "1435    1114         Low  \n",
      "\n",
      "[1436 rows x 11 columns]>\n"
     ]
    }
   ],
   "source": [
    "print(carsdata_csv.info)"
   ]
  },
  {
   "cell_type": "code",
   "execution_count": null,
   "metadata": {},
   "outputs": [],
   "source": []
  },
  {
   "cell_type": "markdown",
   "metadata": {},
   "source": [
    "#### Dataseries.value_counts()\n",
    "\n",
    "returns a series comtaining count of unique values... (total)"
   ]
  },
  {
   "cell_type": "code",
   "execution_count": 55,
   "metadata": {},
   "outputs": [
    {
     "name": "stdout",
     "output_type": "stream",
     "text": [
      "Medium    770\n",
      "Low       351\n",
      "High      315\n",
      "Name: Price_class, dtype: int64\n"
     ]
    }
   ],
   "source": [
    "print(carsdata_csv[\"Price_class\"].value_counts())"
   ]
  },
  {
   "cell_type": "code",
   "execution_count": null,
   "metadata": {},
   "outputs": [],
   "source": []
  },
  {
   "cell_type": "markdown",
   "metadata": {},
   "source": [
    "## converting 'Age' variable from months to years by using a function and storing it under a new column label "
   ]
  },
  {
   "cell_type": "code",
   "execution_count": 56,
   "metadata": {},
   "outputs": [],
   "source": [
    "carsdata_csv.insert(11,\"Age_converted\",0)"
   ]
  },
  {
   "cell_type": "code",
   "execution_count": 41,
   "metadata": {},
   "outputs": [
    {
     "name": "stdout",
     "output_type": "stream",
     "text": [
      "      Price   Age       KM FuelType    HP MetColor Automatic    CC  Doors  \\\n",
      "0      6500  23.0  46986.0      NaN  90.0        1         0  2000      3   \n",
      "1     13750  23.0      NaN   Diesel  90.0      NaN         0  2000      3   \n",
      "2     13950  24.0  41711.0   Diesel   NaN        1         0  2000      3   \n",
      "3     14950   NaN  48000.0   Diesel  90.0        0         0  2000      3   \n",
      "4     13750  30.0  38500.0   Diesel  90.0        0         0  2000      3   \n",
      "...     ...   ...      ...      ...   ...      ...       ...   ...    ...   \n",
      "1431   7500  69.0  20544.0   Petrol  86.0        1         0  1300      3   \n",
      "1432  10845  72.0  19000.0   Petrol  86.0        0         0  1300      3   \n",
      "1433   8500  71.0  17016.0   Petrol  86.0        0         0  1300      3   \n",
      "1434   7250  70.0  16916.0   Petrol  86.0        1         0  1300      3   \n",
      "1435   6950  76.0      NaN   Petrol   NaN        0         0  1600      5   \n",
      "\n",
      "      Weight Price_class  Age_converted  \n",
      "0       1165         Low            1.9  \n",
      "1       1165        High            1.9  \n",
      "2       1165        High            2.0  \n",
      "3       1165        High            NaN  \n",
      "4       1170        High            2.5  \n",
      "...      ...         ...            ...  \n",
      "1431    1025         Low            5.8  \n",
      "1432    1015      Medium            6.0  \n",
      "1433    1015      Medium            5.9  \n",
      "1434    1015         Low            5.8  \n",
      "1435    1114         Low            6.3  \n",
      "\n",
      "[1436 rows x 12 columns]\n"
     ]
    }
   ],
   "source": [
    "\n",
    "def convert(val):\n",
    "    converted_age = round(val / 12,1)\n",
    "    return converted_age\n",
    "\n",
    "carsdata_csv[\"Age_converted\"] = convert(carsdata_csv[\"Age\"])\n",
    "\n",
    "#for i in range(0,len(carsdata_csv),1):\n",
    "#    carsdata_csv.loc[i,\"Age_converted\"] = convert(carsdata_csv.loc[i,\"Age\"])\n",
    "\n",
    "print(carsdata_csv)"
   ]
  },
  {
   "cell_type": "code",
   "execution_count": null,
   "metadata": {},
   "outputs": [],
   "source": []
  },
  {
   "cell_type": "markdown",
   "metadata": {},
   "source": [
    "\n",
    "## getting 'km_per_month'"
   ]
  },
  {
   "cell_type": "code",
   "execution_count": null,
   "metadata": {},
   "outputs": [],
   "source": []
  },
  {
   "cell_type": "code",
   "execution_count": 57,
   "metadata": {},
   "outputs": [],
   "source": [
    "carsdata_csv.insert(12,\"Km_per_month\",0)"
   ]
  },
  {
   "cell_type": "code",
   "execution_count": 58,
   "metadata": {},
   "outputs": [],
   "source": [
    "def both_convert(age, km):\n",
    "    age_converted = round(age/12,1)\n",
    "    km_converted =round(km/age_converted,3)\n",
    "    return [age_converted, km_converted]\n",
    "\n"
   ]
  },
  {
   "cell_type": "code",
   "execution_count": 59,
   "metadata": {},
   "outputs": [],
   "source": [
    "carsdata_csv[\"Age_converted\"],carsdata_csv[\"Km_per_month\"] = both_convert(\n",
    "    carsdata_csv[\"Age\"],\n",
    "    carsdata_csv[\"KM\"])"
   ]
  },
  {
   "cell_type": "code",
   "execution_count": 60,
   "metadata": {},
   "outputs": [
    {
     "name": "stdout",
     "output_type": "stream",
     "text": [
      "      Price   Age       KM FuelType    HP MetColor Automatic    CC  Doors  \\\n",
      "0      6500  23.0  46986.0      NaN  90.0        1         0  2000      3   \n",
      "1     13750  23.0      NaN   Diesel  90.0      NaN         0  2000      3   \n",
      "2     13950  24.0  41711.0   Diesel   NaN        1         0  2000      3   \n",
      "3     14950   NaN  48000.0   Diesel  90.0        0         0  2000      3   \n",
      "4     13750  30.0  38500.0   Diesel  90.0        0         0  2000      3   \n",
      "...     ...   ...      ...      ...   ...      ...       ...   ...    ...   \n",
      "1431   7500  69.0  20544.0   Petrol  86.0        1         0  1300      3   \n",
      "1432  10845  72.0  19000.0   Petrol  86.0        0         0  1300      3   \n",
      "1433   8500  71.0  17016.0   Petrol  86.0        0         0  1300      3   \n",
      "1434   7250  70.0  16916.0   Petrol  86.0        1         0  1300      3   \n",
      "1435   6950  76.0      NaN   Petrol   NaN        0         0  1600      5   \n",
      "\n",
      "      Weight Price_class  Age_converted  Km_per_month  \n",
      "0       1165         Low            1.9     24729.474  \n",
      "1       1165        High            1.9           NaN  \n",
      "2       1165        High            2.0     20855.500  \n",
      "3       1165        High            NaN           NaN  \n",
      "4       1170        High            2.5     15400.000  \n",
      "...      ...         ...            ...           ...  \n",
      "1431    1025         Low            5.8      3542.069  \n",
      "1432    1015      Medium            6.0      3166.667  \n",
      "1433    1015      Medium            5.9      2884.068  \n",
      "1434    1015         Low            5.8      2916.552  \n",
      "1435    1114         Low            6.3           NaN  \n",
      "\n",
      "[1436 rows x 13 columns]\n"
     ]
    }
   ],
   "source": [
    "print(carsdata_csv)"
   ]
  },
  {
   "cell_type": "code",
   "execution_count": null,
   "metadata": {},
   "outputs": [],
   "source": []
  },
  {
   "cell_type": "code",
   "execution_count": null,
   "metadata": {},
   "outputs": [],
   "source": []
  },
  {
   "cell_type": "code",
   "execution_count": null,
   "metadata": {},
   "outputs": [],
   "source": []
  }
 ],
 "metadata": {
  "kernelspec": {
   "display_name": "Python 3",
   "language": "python",
   "name": "python3"
  },
  "language_info": {
   "codemirror_mode": {
    "name": "ipython",
    "version": 3
   },
   "file_extension": ".py",
   "mimetype": "text/x-python",
   "name": "python",
   "nbconvert_exporter": "python",
   "pygments_lexer": "ipython3",
   "version": "3.8.5"
  }
 },
 "nbformat": 4,
 "nbformat_minor": 4
}
